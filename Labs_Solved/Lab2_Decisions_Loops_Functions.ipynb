{
 "cells": [
  {
   "cell_type": "markdown",
   "metadata": {},
   "source": [
    "# Python for Linguists\n",
    "\n",
    "Notebook 2: Decision Structures. Loops. functions.\n",
    "\n",
    "Venelin Kovatchev\n",
    "\n",
    "University of Barcelona 2020"
   ]
  },
  {
   "cell_type": "markdown",
   "metadata": {},
   "source": [
    "### Decision Structures\n",
    "\n",
    "Decision structures determine the actions that a program takes.\n",
    "\n",
    "Decision structures have:\n",
    "* conditions\n",
    "* instructions (actions)\n",
    "\n",
    "Decision structures are introduced by the special word ``if`` and the special word ``else``"
   ]
  },
  {
   "cell_type": "code",
   "execution_count": 1,
   "metadata": {},
   "outputs": [
    {
     "name": "stdout",
     "output_type": "stream",
     "text": [
      "Good morning!\n"
     ]
    }
   ],
   "source": [
    "# We start by defining a variable\n",
    "# In a real program, we can get that variable from the environment\n",
    "# For example, we can get the current hour by finding a function that can tell us what is the time now\n",
    "# In order to test the program, we will have to manually change the \"hour\" variable\n",
    "hour = 9\n",
    "if hour < 12:\n",
    "    print('Good morning!')\n",
    "else:\n",
    "    print('Good day!')\n",
    "    \n"
   ]
  },
  {
   "cell_type": "code",
   "execution_count": 2,
   "metadata": {},
   "outputs": [
    {
     "name": "stdout",
     "output_type": "stream",
     "text": [
      "Good Evening!\n"
     ]
    }
   ],
   "source": [
    "# Task 1:\n",
    "# Can you change the code in a way so that it can say\n",
    "# - \"Good morning\" if hour is <12\n",
    "# - \"Good day\" if hour is between 12 and 18\n",
    "# - \"Good evening\" if hour is >18\n",
    "\n",
    "\n",
    "### Solution ###\n",
    "\n",
    "hour = 20\n",
    "if hour < 12:\n",
    "    print('Good morning!')\n",
    "else:\n",
    "    if hour < 18:\n",
    "        print('Good day!')\n",
    "    else:\n",
    "        print(\"Good Evening!\")"
   ]
  },
  {
   "cell_type": "code",
   "execution_count": 3,
   "metadata": {},
   "outputs": [
    {
     "name": "stdout",
     "output_type": "stream",
     "text": [
      "Good Evening!\n"
     ]
    }
   ],
   "source": [
    "# Task 2:\n",
    "# Do the same as in task 1, but use <= and >= instead of < and >\n",
    "# If the hour is exactly 12, the program should say \"It's noon!\" instead of a greeting\n",
    "\n",
    "\n",
    "### Solution ###\n",
    "\n",
    "hour = 18\n",
    "if hour <0 or hour > 24:\n",
    "    print(\"Invalid Hour\")\n",
    "else:\n",
    "    if hour <= 11 and hour >=0:\n",
    "        print('Good morning!')\n",
    "    else:\n",
    "        if hour == 12:\n",
    "            print(\"It's noon!\")\n",
    "        else:\n",
    "            if hour <=17:\n",
    "                print('Good day!')\n",
    "            else:\n",
    "                if hour <=24:\n",
    "                    print(\"Good Evening!\")"
   ]
  },
  {
   "cell_type": "code",
   "execution_count": 4,
   "metadata": {},
   "outputs": [
    {
     "name": "stdout",
     "output_type": "stream",
     "text": [
      "Good Evening!\n"
     ]
    }
   ],
   "source": [
    "# Same as the previous, but using \"elif\" for easier reading\n",
    "hour = 18\n",
    "if hour <0 or hour > 24:\n",
    "    print(\"Invalid Hour\")\n",
    "elif hour <= 11 and hour >=0:\n",
    "    print('Good morning!')\n",
    "elif hour == 12:\n",
    "    print(\"It's noon!\")\n",
    "elif hour <=17:\n",
    "    print('Good day!')\n",
    "else:\n",
    "    print(\"Good Evening!\")"
   ]
  },
  {
   "cell_type": "code",
   "execution_count": 5,
   "metadata": {},
   "outputs": [
    {
     "name": "stdout",
     "output_type": "stream",
     "text": [
      "Password ok\n",
      "Password ok\n",
      "Password ok\n"
     ]
    }
   ],
   "source": [
    "# Task 3:\n",
    "# In this example we will check the \"validity\" of a new password\n",
    "\n",
    "# The old password is \"password\"\n",
    "old_password=\"password\"\n",
    "\n",
    "# This is the \"new\" password, you will have to change this value to test\n",
    "new_password=\"password123456\"\n",
    "\n",
    "# You need to check if the new password is the same as the old password\n",
    "# If it is, you should print an error message\n",
    "\n",
    "\n",
    "# If the new password is NOT the same, you should check if the new password is longer than 10 characters\n",
    "# If it is shorter than 10 characters you should print an error message\n",
    "# If it is longer than 10 characgters you should print a confirmation message that password is ok\n",
    "\n",
    "\n",
    "### Solution ###\n",
    "\n",
    "\n",
    "# Using \"and\"\n",
    "if new_password != old_password and len(new_password) > 10:\n",
    "    print(\"Password ok\")\n",
    "else:\n",
    "    print(\"Invalid Password\")\n",
    "    \n",
    "\n",
    "# Using \"or\"\n",
    "if new_password == old_password or len(new_password) < 10:\n",
    "    print(\"Invalid Password\")\n",
    "else:\n",
    "    print(\"Password ok\")\n",
    "    \n",
    "    \n",
    "# Using basic ifs\n",
    "if new_password == old_password:\n",
    "    print(\"Password same as old\")\n",
    "elif len(new_password) < 10:\n",
    "    print(\"Password too short\")\n",
    "else:\n",
    "    print(\"Password ok\")"
   ]
  },
  {
   "cell_type": "markdown",
   "metadata": {},
   "source": [
    "### Loops\n",
    "\n",
    "Loops allow us to execute the same code multiple times without explicitly writing it again.\n",
    "\n",
    "In this section we learned about the ``while`` loop. \n",
    "\n",
    "The while loop is very similar to decision structures. It also has conditions and instructions.\n",
    "\n",
    "The difference between a decision structure and a while loop is that the while loop is executed multiple times."
   ]
  },
  {
   "cell_type": "code",
   "execution_count": 6,
   "metadata": {},
   "outputs": [
    {
     "name": "stdout",
     "output_type": "stream",
     "text": [
      "Hello World\n",
      "Hello World\n",
      "Hello World\n",
      "Hello World\n",
      "Hello World\n"
     ]
    }
   ],
   "source": [
    "# Here we will see the difference between using a loop and using a normal code\n",
    "# The following code prints \"Hello World\" five times\n",
    "print(\"Hello World\")\n",
    "print(\"Hello World\")\n",
    "print(\"Hello World\")\n",
    "print(\"Hello World\")\n",
    "print(\"Hello World\")"
   ]
  },
  {
   "cell_type": "code",
   "execution_count": 7,
   "metadata": {},
   "outputs": [
    {
     "name": "stdout",
     "output_type": "stream",
     "text": [
      "Hello World\n",
      "Hello World\n",
      "Hello World\n",
      "Hello World\n",
      "Hello World\n"
     ]
    }
   ],
   "source": [
    "# Now we do the same using a while loop\n",
    "num_printed = 0\n",
    "while num_printed < 5:\n",
    "    print(\"Hello World\")\n",
    "    num_printed = num_printed +1"
   ]
  },
  {
   "cell_type": "code",
   "execution_count": 8,
   "metadata": {},
   "outputs": [
    {
     "name": "stdout",
     "output_type": "stream",
     "text": [
      "Hello World 1\n",
      "Hello World 2\n",
      "Hello World 3\n",
      "Hello World 4\n",
      "Hello World 5\n"
     ]
    }
   ],
   "source": [
    "# Task 4:\n",
    "# Instead of printing just \"Hello World\", now print \"Hello World\" and the repetition number. Example:\n",
    "# Hello World 1\n",
    "# Hello World 2\n",
    "# Hello World 3\n",
    "# Use a while loop. Remember how you can concatenate strings! Remember how you can convert integer into string!\n",
    "\n",
    "### Solution ###\n",
    "\n",
    "# Remember to ALWAYS initialize the variable before loop\n",
    "# This is especially important if you reuse variable names\n",
    "# We uset num_printed in previous example, if we don't reset it to 0, we won't get the output we are expecting\n",
    "num_printed = 1\n",
    "while num_printed <= 5:\n",
    "    print(\"Hello World \" + str(num_printed))\n",
    "    num_printed = num_printed +1"
   ]
  },
  {
   "cell_type": "markdown",
   "metadata": {},
   "source": [
    "### Functions and Methods\n",
    "\n",
    "Functions and methods are a way to \"name\" and \"reuse\" algorithms, the same way that variables are a way to \"name\" and \"reuse\" data.\n",
    "\n",
    "Functions have parameters and return codes\n",
    "\n",
    "There are two kinds of functions - funcitons that \"do things\" and functions that \"tell you things\""
   ]
  },
  {
   "cell_type": "code",
   "execution_count": 9,
   "metadata": {},
   "outputs": [
    {
     "name": "stdout",
     "output_type": "stream",
     "text": [
      "Young woman!\n",
      "Some text\n",
      "Young woman!\n",
      "None\n"
     ]
    }
   ],
   "source": [
    "# Observe the example function from the slides\n",
    "\n",
    "\n",
    "# The following function is function that \"does something\"\n",
    "# We create the function and give it two parameters - age and gender\n",
    "def personal_q(age, gender):\n",
    "    # We check if age is less than 25\n",
    "    if age <25:\n",
    "        # We check if gender is female\n",
    "        if gender == \"f\":\n",
    "            # If the user is both younger than 25 and female, we print \"Young woman\"\n",
    "            print(\"Young woman!\")\n",
    "        else:\n",
    "            # Otherwise, we have someone who is younger than 25 but is NOT female, so we print \"Young man\"\n",
    "            print(\"Young man!\")\n",
    "    else:\n",
    "        # If the person is older than 25, we print \"wise person\"\n",
    "        print (\"Wise person!\")\n",
    "\n",
    "# We invoke the function that \"does something\" by calling its name and assigning parameters        \n",
    "# In this example, we invoke the function by \"giving\" it parameters 23 (corresponding to age) and \"f\" corresponding to gender\n",
    "# Note that 23 is not and quotes and \"f\" is - why is that?\n",
    "personal_q(23,\"f\")\n",
    "\n",
    "# The function personal_q() is similar to the print function\n",
    "print(\"Some text\")\n",
    "\n",
    "# You do NOT assign the output of this function to a variable\n",
    "# i.e.: you don't wrote code like\n",
    "#\n",
    "#  my_var = print(\"some text\")\n",
    "#  my_var = personal1(23,\"f\")\n",
    "\n",
    "young = personal_q(23,\"f\")\n",
    "print(young)"
   ]
  },
  {
   "cell_type": "code",
   "execution_count": 10,
   "metadata": {},
   "outputs": [
    {
     "name": "stdout",
     "output_type": "stream",
     "text": [
      "Young woman!\n"
     ]
    }
   ],
   "source": [
    "# The following function is function that \"tells you something\"\n",
    "# It is similar to the previous function, but behaves in a slightly different way\n",
    "# We create the function and give it two parameters - age and gender\n",
    "def personal_q_2(age, gender):\n",
    "    # We create our out value\n",
    "    out_value = \"\"\n",
    "    # We check if age is less than 25\n",
    "    if age <25:\n",
    "        # We check if gender is female\n",
    "        if gender == \"f\":\n",
    "            # If the user is both younger than 25 and female, we set our out_value to \"Young woman\"\n",
    "            out_value = \"Young woman!\"\n",
    "        else:\n",
    "            # Otherwise, we have someone who is younger than 25 but is NOT female, so we set our out_value to \"Young man\"\n",
    "            out_value = \"Young man!\"\n",
    "    else:\n",
    "        # If the person is older than 25, we set our out_value to \"wise person\"\n",
    "        out_value = \"Wise person!\"\n",
    "    \n",
    "    # We RETURN the out_value\n",
    "    return out_value\n",
    "\n",
    "# Unlike the function that \"does something\", the function that \"tells you something\" needs to be assigned to a variable\n",
    "my_profile = personal_q_2(23,\"f\")\n",
    "\n",
    "# The function personal_q_2() is similar to the len function which counts the number of characters in a string\n",
    "str_len = len(\"Some text\")\n",
    "\n",
    "# You can then use the value of my_profile or str_len to print or do something with the data\n",
    "print(my_profile)\n",
    "\n",
    "# Always make sure to think what kind of function are you using\n",
    "# 1) function that \"does\" something (e.g.: \"print this on the screen\", \"open the door\")\n",
    "# or\n",
    "# 2) function that \"tells\" something (e.g.: \"how many characters are there?\", \"what day of the week is today?\")"
   ]
  },
  {
   "cell_type": "code",
   "execution_count": 11,
   "metadata": {},
   "outputs": [
    {
     "name": "stdout",
     "output_type": "stream",
     "text": [
      "Invalid Hour\n",
      "Good morning!\n",
      "It's noon!\n",
      "Good day!\n",
      "Good Evening!\n",
      "Invalid Hour\n"
     ]
    }
   ],
   "source": [
    "# Write a function for the \"Greeting\" exercice\n",
    "# The parameter of the function should be the hour\n",
    "\n",
    "### Solution ###\n",
    "\n",
    "def greetings(hour):\n",
    "    if hour <0 or hour > 24:\n",
    "        print(\"Invalid Hour\")\n",
    "    elif hour <= 11 and hour >=0:\n",
    "        print('Good morning!')\n",
    "    elif hour == 12:\n",
    "        print(\"It's noon!\")\n",
    "    elif hour <=17:\n",
    "        print('Good day!')\n",
    "    else:\n",
    "        print(\"Good Evening!\")\n",
    "\n",
    "greetings(-1)\n",
    "greetings(4)\n",
    "greetings(12)\n",
    "greetings(15)\n",
    "greetings(19)\n",
    "greetings(27)"
   ]
  },
  {
   "cell_type": "code",
   "execution_count": 12,
   "metadata": {},
   "outputs": [
    {
     "name": "stdout",
     "output_type": "stream",
     "text": [
      "Password same as old\n",
      "Password too short\n",
      "Password ok\n"
     ]
    }
   ],
   "source": [
    "# Write a function for the \"Password\" exercise\n",
    "# The two parameters should be the new password and the old password\n",
    "\n",
    "### Solution ###\n",
    "\n",
    "def pass_check(new_pw,old_pw):\n",
    "    if new_pw == old_pw:\n",
    "        print(\"Password same as old\")\n",
    "    elif len(new_pw) < 10:\n",
    "        print(\"Password too short\")\n",
    "    else:\n",
    "        print(\"Password ok\")\n",
    "        \n",
    "pass_check(\"asdfghjkl\",\"asdfghjkl\")\n",
    "pass_check(\"asdfghjk1\",\"asdfghjk\")\n",
    "pass_check(\"asdfghjkl12345678\",\"asdfghjkl\")"
   ]
  },
  {
   "cell_type": "markdown",
   "metadata": {},
   "source": [
    "### Advanced exercises\n",
    "\n",
    "The following exercises are a little more complicated than what we have so far. They will make use of everything that we have learned so far. "
   ]
  },
  {
   "cell_type": "markdown",
   "metadata": {},
   "source": [
    "### A random sentence\n",
    "Remember that a **while** block is executed repeatedly until its condition becomes False. The function **getRandomWord()**, defined below, when called in your code returns a String value containing a word or a period of end of sentence. We want to call such function repeatedly to construct a phrase with its output. The phrase may have any length, it can also be empty; the only requisite is that it finishes with a period. For the purposes of the exercise, you can just output the phrase by calling **print()** every time you get a new word, getting the sentence in vertical.\n",
    "\n",
    "*Hints:*\n",
    "* The result of a function can be stored in a variable, like ```word = getRandomWord()```\n",
    "* Make sure your **while** line works at all steps, including the first. Remember that code works sequentially from the top down. You might need to do something previous to the first iteration."
   ]
  },
  {
   "cell_type": "code",
   "execution_count": 13,
   "metadata": {},
   "outputs": [
    {
     "name": "stdout",
     "output_type": "stream",
     "text": [
      "working\n",
      "on\n",
      "working\n",
      "cat\n",
      "boats\n",
      "the\n",
      "boats\n",
      "man\n",
      "a\n",
      "with\n"
     ]
    }
   ],
   "source": [
    "# You don't need to modify the function\n",
    "def getRandomWord():\n",
    "    words = ['a', 'the', 'on', 'with', 'woman', 'man', 'cat', 'dog', 'working', 'at', 'boats', 'flying', '.']\n",
    "    import random\n",
    "    return random.choice(words)\n",
    "\n",
    "# Observe this example\n",
    "# This code prints 10 words\n",
    "# The code that you need to create is simiar to this, but the condition is different\n",
    "num_words = 0\n",
    "while num_words < 10:\n",
    "    current_word = getRandomWord()\n",
    "    print(current_word)\n",
    "    num_words +=1\n"
   ]
  },
  {
   "cell_type": "code",
   "execution_count": 14,
   "metadata": {},
   "outputs": [
    {
     "name": "stdout",
     "output_type": "stream",
     "text": [
      "woman\n",
      ".\n"
     ]
    }
   ],
   "source": [
    "# Add your code here\n",
    "\n",
    "### Solution ###\n",
    "\n",
    "# We simply change the condition\n",
    "\n",
    "# We initialize the current word variable\n",
    "current_word = \"\"\n",
    "\n",
    "# We start the loop, we generate words until we see \".\"\n",
    "# If the first word is \".\", we will stop instantly\n",
    "while current_word != \".\":\n",
    "    current_word = getRandomWord()\n",
    "    print(current_word)\n",
    "    "
   ]
  },
  {
   "cell_type": "markdown",
   "metadata": {},
   "source": [
    "### Controlling long sentences\n",
    "Our first sentence generator was nice (?) but the length of the sentences is completely random, and at some runs it could get extremely long if we're unlucky. We want to prevent this by setting the maximum length of a sentence as 5 words (6 including the period). Rewrite your previous code with slight modifications to achieve it.\n",
    "\n",
    "*Hints:*\n",
    "* You need something to count the number of repetitions of your loop.\n",
    "* Remember that you can make boolean expressions as complex as you want (as long as they follow Python's rules), for instance with logical operators (and, or, not).\n",
    "* Make sure your program ends correctly (with a period) in all cases. You might need to add something to achieve this."
   ]
  },
  {
   "cell_type": "code",
   "execution_count": 15,
   "metadata": {},
   "outputs": [
    {
     "name": "stdout",
     "output_type": "stream",
     "text": [
      "on\n",
      "boats\n",
      "working\n",
      "on\n",
      "woman\n",
      ".\n"
     ]
    }
   ],
   "source": [
    "# Add your code here\n",
    "\n",
    "\n",
    "### Solution ###\n",
    "\n",
    "# We simply change the condition\n",
    "\n",
    "# We initialize the current word variable\n",
    "current_word = \"\"\n",
    "# We initialize the number of words printed\n",
    "num_words = 0\n",
    "\n",
    "# We start the loop, we generate words until we see \".\" or until the length reaches the maximum\n",
    "while current_word != \".\" and num_words<5:\n",
    "    current_word = getRandomWord()\n",
    "    print(current_word)\n",
    "    num_words +=1\n",
    "\n",
    "# Check if we ended with a dot or because of length\n",
    "# If the current word is not a full stop we add full stop\n",
    "# Why does this work?\n",
    "if current_word != \".\":\n",
    "    print(\".\")"
   ]
  },
  {
   "cell_type": "markdown",
   "metadata": {},
   "source": [
    "### Avoiding successive repetitions of words\n",
    "In different runs of your cool sentence generator, you must have seen results like **\"man man working.\"**, and it's ugly that the same word appears repeatedly one after another. We want to get rid of that too. Rewrite your code to only print a word if it's different to the previous.\n",
    "\n",
    "*Hints:*\n",
    "* So far, you were probably only keeping the latest data, corresponding to the current iteration, and throwing it away when you generated new data. Now, think of what you need to have available at the i-th step and find a way to keep it before new data comes."
   ]
  },
  {
   "cell_type": "code",
   "execution_count": 16,
   "metadata": {
    "scrolled": true
   },
   "outputs": [
    {
     "name": "stdout",
     "output_type": "stream",
     "text": [
      "with\n",
      "at\n",
      "boats\n",
      "flying\n",
      "a\n",
      ".\n"
     ]
    }
   ],
   "source": [
    "# Add your code here\n",
    "\n",
    "\n",
    "### Solution ###\n",
    "\n",
    "# We simply change the condition\n",
    "\n",
    "# We initialize the current word variable\n",
    "current_word = \"\"\n",
    "# We initialize the last word variable\n",
    "last_word = \"\"\n",
    "# We initialize the number of words printed\n",
    "num_words = 0\n",
    "\n",
    "# We start the loop, we generate words until we see \".\" or until the length reaches the maximum\n",
    "while current_word != \".\" and num_words<5:\n",
    "    current_word = getRandomWord()\n",
    "    # Check if the \"new\" word is different than the \"last\" word:\n",
    "    if current_word != last_word:\n",
    "        print(current_word)\n",
    "        num_words +=1\n",
    "        # Change the value of \"last\" word to be the current word\n",
    "        last_word = current_word\n",
    "        \n",
    "    # N.B.: IF the current word is the SAME as the last word, we don't do anything\n",
    "    # We don't print, we don't increase the number of words, we just go to the next step and generate a new woord\n",
    "\n",
    "# Check if we ended with a dot or because of length\n",
    "# If the current word is not a full stop we add full stop\n",
    "# Why does this work?\n",
    "if current_word != \".\":\n",
    "    print(\".\")"
   ]
  },
  {
   "cell_type": "markdown",
   "metadata": {},
   "source": [
    "### Controlling short sequences\n",
    "We told our generator not to produce too long sentences. It would be cool to avoid very short phrases also. Rewrite your code to only produce sentences between 5 and 20 words, plus the period.\n",
    "\n",
    "*Hints:*\n",
    "* Remember that the period should only appear at the end of the sentence.\n",
    "* Some sort of distinction between a word that's a candidate to be added and a word that's actually added may be helpful.\n",
    "* Logical operators may help you again.\n",
    "* This exercise is more difficult than the rest. If you can't find a solution at your first try, simplify the problem, try to solve the things you understand, and progressively get closer to the real solution. Doing a sketch with a pencil and a paper before actually coding really helps."
   ]
  },
  {
   "cell_type": "code",
   "execution_count": 17,
   "metadata": {},
   "outputs": [
    {
     "name": "stdout",
     "output_type": "stream",
     "text": [
      "dog\n",
      "woman\n",
      "boats\n",
      "dog\n",
      "man\n",
      "dog\n",
      "with\n",
      "flying\n",
      "cat\n",
      "at\n",
      "on\n",
      "man\n",
      "dog\n",
      "woman\n",
      "flying\n",
      ".\n"
     ]
    }
   ],
   "source": [
    "# Add your code here\n",
    "\n",
    "### Solution ###\n",
    "\n",
    "\n",
    "# We initialize the current word variable\n",
    "current_word = \"\"\n",
    "# We initialize the last word variable\n",
    "last_word = \"\"\n",
    "# We initialize the number of words printed\n",
    "num_words = 0\n",
    "\n",
    "# We start the loop, we generate words until we see \".\" or until the length reaches the maximum\n",
    "while current_word != \".\" and num_words<20:\n",
    "    current_word = getRandomWord()\n",
    "    # Check if the \"new\" word is different than the \"last\" word:\n",
    "    if current_word != last_word:\n",
    "        \n",
    "        # Check if the word is a fullstop:\n",
    "        if current_word != \".\":\n",
    "            # If it is not, proceed normally\n",
    "            print(current_word)\n",
    "            num_words +=1\n",
    "            # Change the value of \"last\" word to be the current word\n",
    "            last_word = current_word\n",
    "            \n",
    "        # If the word IS a full stop\n",
    "        else:\n",
    "            # Check if the current lengtht is more or equal to the minimum -1\n",
    "            if num_words >= 4:\n",
    "                print(current_word)\n",
    "                num_words +=1\n",
    "                # Change the value of \"last\" word to be the current word\n",
    "                last_word = current_word\n",
    "            \n",
    "            # If we don't do anything here, the loop will stop because \"current_word\" is fullstop\n",
    "            # To avoid that, we reset the value of \"current word\"\n",
    "            # Note that we don't print or increase the counter, just reset the word\n",
    "            else:\n",
    "                current_word = \"\"\n",
    "\n",
    "    \n",
    "    # N.B.: IF the current word is the SAME as the last word, we don't do anything\n",
    "    # We don't print, we don't increase the number of words, we just go to the next step and generate a new woord\n",
    "\n",
    "# Check if we ended with a dot or because of length\n",
    "# If the current word is not a full stop we add full stop\n",
    "# Why does this work?\n",
    "if current_word != \".\":\n",
    "    print(\".\")"
   ]
  },
  {
   "cell_type": "code",
   "execution_count": null,
   "metadata": {},
   "outputs": [],
   "source": []
  }
 ],
 "metadata": {
  "kernelspec": {
   "display_name": "Python 3",
   "language": "python",
   "name": "python3"
  },
  "language_info": {
   "codemirror_mode": {
    "name": "ipython",
    "version": 3
   },
   "file_extension": ".py",
   "mimetype": "text/x-python",
   "name": "python",
   "nbconvert_exporter": "python",
   "pygments_lexer": "ipython3",
   "version": "3.7.4"
  }
 },
 "nbformat": 4,
 "nbformat_minor": 2
}
