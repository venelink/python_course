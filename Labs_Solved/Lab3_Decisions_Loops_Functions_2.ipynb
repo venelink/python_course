{
 "cells": [
  {
   "cell_type": "markdown",
   "metadata": {},
   "source": [
    "# Python for Linguists\n",
    "\n",
    "Notebook 3: Decision Structures. Loops. Functions. Part 2\n",
    "\n",
    "Venelin Kovatchev\n",
    "\n",
    "University of Barcelona 2020"
   ]
  },
  {
   "cell_type": "markdown",
   "metadata": {},
   "source": [
    "### Decision Structures and Loops (Part 2)\n",
    "\n",
    "In this notebook we will practice more with decision structures and loops\n",
    "\n"
   ]
  },
  {
   "cell_type": "code",
   "execution_count": 1,
   "metadata": {},
   "outputs": [
    {
     "ename": "SyntaxError",
     "evalue": "invalid character in identifier (<ipython-input-1-1201af38d95e>, line 4)",
     "output_type": "error",
     "traceback": [
      "\u001b[1;36m  File \u001b[1;32m\"<ipython-input-1-1201af38d95e>\"\u001b[1;36m, line \u001b[1;32m4\u001b[0m\n\u001b[1;33m    for word in [“this”, “is”, “a”, “sentence”]:\u001b[0m\n\u001b[1;37m                      ^\u001b[0m\n\u001b[1;31mSyntaxError\u001b[0m\u001b[1;31m:\u001b[0m invalid character in identifier\n"
     ]
    }
   ],
   "source": [
    "# We start by experimenting with the for loop\n",
    "# This is the example from the slides\n",
    "# Check the code and make sure you understand how it works and why\n",
    "for word in [\"this\", \"is\", \"a\", \"sentence\"]:\n",
    "    print(word)\n",
    "\n"
   ]
  },
  {
   "cell_type": "code",
   "execution_count": 2,
   "metadata": {},
   "outputs": [
    {
     "name": "stdout",
     "output_type": "stream",
     "text": [
      "Hello World 1\n",
      "Hello World 2\n",
      "Hello World 3\n"
     ]
    }
   ],
   "source": [
    "# Task 1\n",
    "# Do the same \"Hello World\" as in the previous notebook, but use \"for\" instead of while\n",
    "# The desired output is:\n",
    "# Hello World 1\n",
    "# Hello World 2\n",
    "# Hello World 3\n",
    "\n",
    "### Solution ###\n",
    "\n",
    "for print_id in [1,2,3]:\n",
    "    print(\"Hello World \" + str(print_id))"
   ]
  },
  {
   "cell_type": "code",
   "execution_count": 4,
   "metadata": {},
   "outputs": [
    {
     "name": "stdout",
     "output_type": "stream",
     "text": [
      "Hello World 1\n",
      "Hello World 2\n",
      "Hello World 3\n",
      "Hello World 4\n",
      "Hello World 5\n"
     ]
    }
   ],
   "source": [
    "# Task 2\n",
    "# Write a function for Task 1, that takes two parameters: number of repetitions and text\n",
    "\n",
    "### Solution ###\n",
    "\n",
    "def greet(num_print):\n",
    "    # Range creates a list from 0 to the given number -1\n",
    "    for print_id in range(num_print):\n",
    "        print(\"Hello World \" + str (print_id+1))\n",
    "        \n",
    "greet(5)"
   ]
  },
  {
   "cell_type": "code",
   "execution_count": 9,
   "metadata": {},
   "outputs": [
    {
     "name": "stdout",
     "output_type": "stream",
     "text": [
      "[0, 1, 2, 3, 4]\n"
     ]
    }
   ],
   "source": [
    "# Observe the range() function\n",
    "print(list(range(5)))"
   ]
  },
  {
   "cell_type": "code",
   "execution_count": 5,
   "metadata": {},
   "outputs": [
    {
     "name": "stdout",
     "output_type": "stream",
     "text": [
      "What is your name? Venelin\n",
      "Nice to meet you Venelin\n"
     ]
    }
   ],
   "source": [
    "# The input() function asks for human interaction\n",
    "# You can pass the input() function to a variable or a function\n",
    "human_inp = input(\"What is your name? \")\n",
    "print(\"Nice to meet you \" + human_inp)"
   ]
  },
  {
   "cell_type": "code",
   "execution_count": 10,
   "metadata": {},
   "outputs": [
    {
     "name": "stdout",
     "output_type": "stream",
     "text": [
      "What is your name? Venelin\n",
      "What time is it (hour)? 15\n",
      "Good day Venelin!\n"
     ]
    }
   ],
   "source": [
    "# Task 3:\n",
    "# Copy the code for the greeting function from the previous notebook\n",
    "# Make sure you add control for negative numbers and numbers above 25\n",
    "# Modify the code so that it includes a name in the greeting\n",
    "# Use input() to ask for the time and for the name of the person\n",
    "# Greet the person accordingly\n",
    "\n",
    "### Solution ###\n",
    "\n",
    "def greeting_name(hour,name):\n",
    "    if hour <0 or hour > 24:\n",
    "        print(\"Invalid Hour\")\n",
    "    elif hour <= 11 and hour >=0:\n",
    "        print('Good morning ' + name + '!')\n",
    "    elif hour == 12:\n",
    "        print(\"It's noon \" + name + \"!\")\n",
    "    elif hour <=17:\n",
    "        print('Good day ' + name + '!')\n",
    "    else:\n",
    "        print(\"Good Evening \" + name + \"!\")\n",
    "\n",
    "name_inp = input(\"What is your name? \")\n",
    "time_inp = input(\"What time is it (hour)? \")\n",
    "\n",
    "greeting_name(int(time_inp),name_inp)"
   ]
  },
  {
   "cell_type": "code",
   "execution_count": 11,
   "metadata": {},
   "outputs": [
    {
     "name": "stdout",
     "output_type": "stream",
     "text": [
      "What is your name? Venelin\n",
      "What time is it (hour)? 1\n",
      "Good morning Venelin!\n",
      "What time is it (hour)? 10\n",
      "Good morning Venelin!\n",
      "What time is it (hour)? 12\n",
      "It's noon Venelin!\n",
      "What time is it (hour)? 14\n",
      "Good day Venelin!\n",
      "What time is it (hour)? 18\n",
      "Good Evening Venelin!\n",
      "What time is it (hour)? 19\n",
      "Good Evening Venelin!\n"
     ]
    }
   ],
   "source": [
    "# Task 4:\n",
    "# In this task we will use the same \"greeting\" function as in Task 1\n",
    "# Ask the person for their name (ONCE)\n",
    "# As long as the time is earlier than 18:00, keep doing the following:\n",
    "#     Ask the person for the time\n",
    "#     Greet the person\n",
    "# \n",
    "# You keep asking and greeting until you receive time that is more than 18\n",
    "# HINT - to convert a string to an integer, use the int() function\n",
    "\n",
    "### Solution ###\n",
    "\n",
    "\n",
    "name_inp = input(\"What is your name? \")\n",
    "time_inp = 0\n",
    "# The while loop keeps asking until I get a number higher than 18\n",
    "# Note that the name is outside of the loop, so it doesn't ask for the name every time\n",
    "while int(time_inp) <= 18:\n",
    "    time_inp = input(\"What time is it (hour)? \")\n",
    "    greeting_name(int(time_inp),name_inp)\n"
   ]
  },
  {
   "cell_type": "code",
   "execution_count": 7,
   "metadata": {},
   "outputs": [
    {
     "name": "stdout",
     "output_type": "stream",
     "text": [
      "Enter a european country: asd\n",
      "Wrong country!\n",
      "Enter a european country: Germany\n",
      "Ok\n"
     ]
    }
   ],
   "source": [
    "# Advanced! \n",
    "# Task 5:\n",
    "# In this task we want the user to give us the name of a country of the european union\n",
    "# We have the names of the countries in a predefined list\n",
    "# The program will work the following:\n",
    "#    It will ask the user for a country\n",
    "#    It will check if the country is in the list\n",
    "#    If the country is correct the program will say \"OK\" and exit\n",
    "#    If the country is incorrect, the program will say \"Wrong country\" and ask again\n",
    "# \n",
    "#    The program will ignore uppercase/lowercase letters\n",
    "# \n",
    "#    There are at least three ways that you can achieve this: using \"for\", using \"while\" and using the special operator \"in\"\n",
    "#    Can you create all three?\n",
    "\n",
    "### Solution ###\n",
    "\n",
    "# List of eu countries\n",
    "# Note that all countries are lowercase\n",
    "eu_countries = [\"spain\",\"france\",\"germany\",\"austria\",\"bulgaria\"]\n",
    "\n",
    "# Ask for the first country\n",
    "country_inp = country_inp = input(\"Enter a european country: \")\n",
    "# Lowercase the input to make sure SPAIN matches spain and SpAiN also matches spain\n",
    "country_inp = country_inp.lower()\n",
    "\n",
    "# Keep asking until a correct country is given\n",
    "while country_inp not in eu_countries:\n",
    "    print(\"Wrong country!\")\n",
    "    country_inp = input(\"Enter a european country: \")\n",
    "    country_inp = country_inp.lower()\n",
    "    retry +=1\n",
    "\n",
    "print(\"Ok\")\n"
   ]
  },
  {
   "cell_type": "code",
   "execution_count": null,
   "metadata": {},
   "outputs": [],
   "source": []
  },
  {
   "cell_type": "code",
   "execution_count": null,
   "metadata": {},
   "outputs": [],
   "source": []
  }
 ],
 "metadata": {
  "kernelspec": {
   "display_name": "Python 3",
   "language": "python",
   "name": "python3"
  },
  "language_info": {
   "codemirror_mode": {
    "name": "ipython",
    "version": 3
   },
   "file_extension": ".py",
   "mimetype": "text/x-python",
   "name": "python",
   "nbconvert_exporter": "python",
   "pygments_lexer": "ipython3",
   "version": "3.7.4"
  }
 },
 "nbformat": 4,
 "nbformat_minor": 2
}
