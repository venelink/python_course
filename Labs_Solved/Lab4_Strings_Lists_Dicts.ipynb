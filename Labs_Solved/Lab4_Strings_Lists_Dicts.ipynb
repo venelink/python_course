{
 "cells": [
  {
   "cell_type": "markdown",
   "metadata": {},
   "source": [
    "# Python for Linguists\n",
    "\n",
    "Notebook 4: Strings, Lists, Dictionaries \n",
    "\n",
    "Venelin Kovatchev\n",
    "\n",
    "University of Barcelona 2020"
   ]
  },
  {
   "cell_type": "markdown",
   "metadata": {},
   "source": [
    "### Strings, Lists, Dictionaries\n",
    "\n",
    "In this notebook we will practice with three data types: strings, lists, and dictionaries\n",
    "We will also practice more with loops and decision structures.\n",
    "\n",
    "In this lab we will start working with text data and text statistics.\n",
    "\n"
   ]
  },
  {
   "cell_type": "code",
   "execution_count": 1,
   "metadata": {},
   "outputs": [
    {
     "name": "stdout",
     "output_type": "stream",
     "text": [
      "This is a single string variable. It now contains two sentences.\n"
     ]
    }
   ],
   "source": [
    "# Remember the string data type\n",
    "# A string is a sequence of characters\n",
    "string_1 = \"This is a single string variable.\"\n",
    "\n",
    "# You can add characters to a string using the \"+\" operator\n",
    "string_1 += \" It now contains two sentences.\"\n",
    "\n",
    "# Remember the += operator\n",
    "# string_1 += \" It now contains two sentences.\" \n",
    "#    is the same as:\n",
    "# string_1 = string_1 + \" It now contains two sentences.\"\n",
    "\n",
    "\n",
    "print(string_1)\n",
    "\n"
   ]
  },
  {
   "cell_type": "code",
   "execution_count": 2,
   "metadata": {},
   "outputs": [
    {
     "name": "stdout",
     "output_type": "stream",
     "text": [
      "h\n"
     ]
    }
   ],
   "source": [
    "# You can access parts of the string using indexes and slices\n",
    "\n",
    "# Remember that counting in python starts from 0\n",
    "# 0th character is in fact the first\n",
    "# 1st character is in fact the second\n",
    "# The following line will print the SECOND character of string_1\n",
    "print(string_1[1])"
   ]
  },
  {
   "cell_type": "code",
   "execution_count": 3,
   "metadata": {},
   "outputs": [
    {
     "name": "stdout",
     "output_type": "stream",
     "text": [
      "Thi\n"
     ]
    }
   ],
   "source": [
    "# You can slice a part of a string by providing \"start\" and \"end\" of the string\n",
    "# The fofllowing will print characters starting from 0 until 3 excluding 3 (that is, characters 0, 1, and 2)\n",
    "print(string_1[0:3])"
   ]
  },
  {
   "cell_type": "code",
   "execution_count": 4,
   "metadata": {},
   "outputs": [
    {
     "ename": "TypeError",
     "evalue": "'str' object does not support item assignment",
     "output_type": "error",
     "traceback": [
      "\u001b[1;31m---------------------------------------------------------------------------\u001b[0m",
      "\u001b[1;31mTypeError\u001b[0m                                 Traceback (most recent call last)",
      "\u001b[1;32m<ipython-input-4-87f70c6c04e6>\u001b[0m in \u001b[0;36m<module>\u001b[1;34m\u001b[0m\n\u001b[0;32m      1\u001b[0m \u001b[1;31m# You can NOT use indexing to change a part of a string\u001b[0m\u001b[1;33m\u001b[0m\u001b[1;33m\u001b[0m\u001b[1;33m\u001b[0m\u001b[0m\n\u001b[0;32m      2\u001b[0m \u001b[1;31m# Try the following code\u001b[0m\u001b[1;33m\u001b[0m\u001b[1;33m\u001b[0m\u001b[1;33m\u001b[0m\u001b[0m\n\u001b[1;32m----> 3\u001b[1;33m \u001b[0mstring_1\u001b[0m\u001b[1;33m[\u001b[0m\u001b[1;36m0\u001b[0m\u001b[1;33m]\u001b[0m \u001b[1;33m=\u001b[0m \u001b[1;34m\"D\"\u001b[0m\u001b[1;33m\u001b[0m\u001b[1;33m\u001b[0m\u001b[0m\n\u001b[0m\u001b[0;32m      4\u001b[0m \u001b[1;33m\u001b[0m\u001b[0m\n\u001b[0;32m      5\u001b[0m \u001b[0mprint\u001b[0m\u001b[1;33m(\u001b[0m\u001b[0mstring_1\u001b[0m\u001b[1;33m)\u001b[0m\u001b[1;33m\u001b[0m\u001b[1;33m\u001b[0m\u001b[0m\n",
      "\u001b[1;31mTypeError\u001b[0m: 'str' object does not support item assignment"
     ]
    }
   ],
   "source": [
    "# You can NOT use indexing to change a part of a string\n",
    "# Try the following code\n",
    "string_1[0] = \"D\"\n",
    "\n",
    "print(string_1)"
   ]
  },
  {
   "cell_type": "code",
   "execution_count": 5,
   "metadata": {},
   "outputs": [
    {
     "name": "stdout",
     "output_type": "stream",
     "text": [
      "['This', 'is', 'a', 'sentence', '.', 1, 'another string']\n"
     ]
    }
   ],
   "source": [
    "# The list variable is a sequence of objects\n",
    "# It is similar to a string, but can contain elements that are not characters\n",
    "list_1 = [\"This\",\"is\",\"a\",\"sentence\",\".\"]\n",
    "\n",
    "# You can concatenate LISTS using the \"+\" operator\n",
    "\n",
    "list_1 += [1,\"another string\"]\n",
    "\n",
    "print(list_1)"
   ]
  },
  {
   "cell_type": "code",
   "execution_count": 6,
   "metadata": {},
   "outputs": [
    {
     "name": "stdout",
     "output_type": "stream",
     "text": [
      "['This', 'is', 'a', 'sentence', '.', 1, 'another string', 't', 'e', 's', 't']\n"
     ]
    }
   ],
   "source": [
    "# What will the following code do?\n",
    "# Will it work?\n",
    "# Why?\n",
    "# Does the result surprise you?\n",
    "\n",
    "list_1 += \"test\"\n",
    "\n",
    "print(list_1)"
   ]
  },
  {
   "cell_type": "code",
   "execution_count": 7,
   "metadata": {},
   "outputs": [
    {
     "ename": "TypeError",
     "evalue": "'int' object is not iterable",
     "output_type": "error",
     "traceback": [
      "\u001b[1;31m---------------------------------------------------------------------------\u001b[0m",
      "\u001b[1;31mTypeError\u001b[0m                                 Traceback (most recent call last)",
      "\u001b[1;32m<ipython-input-7-d364d7185c3a>\u001b[0m in \u001b[0;36m<module>\u001b[1;34m\u001b[0m\n\u001b[0;32m      4\u001b[0m \u001b[1;31m# Does the result surprise you?\u001b[0m\u001b[1;33m\u001b[0m\u001b[1;33m\u001b[0m\u001b[1;33m\u001b[0m\u001b[0m\n\u001b[0;32m      5\u001b[0m \u001b[1;33m\u001b[0m\u001b[0m\n\u001b[1;32m----> 6\u001b[1;33m \u001b[0mlist_1\u001b[0m \u001b[1;33m+=\u001b[0m \u001b[1;36m1\u001b[0m\u001b[1;33m\u001b[0m\u001b[1;33m\u001b[0m\u001b[0m\n\u001b[0m\u001b[0;32m      7\u001b[0m \u001b[1;33m\u001b[0m\u001b[0m\n\u001b[0;32m      8\u001b[0m \u001b[0mprint\u001b[0m\u001b[1;33m(\u001b[0m\u001b[0mlist_1\u001b[0m\u001b[1;33m)\u001b[0m\u001b[1;33m\u001b[0m\u001b[1;33m\u001b[0m\u001b[0m\n",
      "\u001b[1;31mTypeError\u001b[0m: 'int' object is not iterable"
     ]
    }
   ],
   "source": [
    "# What will the following code do?\n",
    "# Will it work?\n",
    "# Why?\n",
    "# Does the result surprise you?\n",
    "\n",
    "list_1 += 1\n",
    "\n",
    "print(list_1)"
   ]
  },
  {
   "cell_type": "code",
   "execution_count": 8,
   "metadata": {},
   "outputs": [
    {
     "name": "stdout",
     "output_type": "stream",
     "text": [
      "['This', 'is', 'a', 'sentence', '.', 1, 'another string', 't', 'e', 's', 't', '12', 3]\n"
     ]
    }
   ],
   "source": [
    "# If you want to add a single element to a list, you should use the \"append\" method\n",
    "\n",
    "list_1.append(\"12\")\n",
    "list_1.append(3)\n",
    "\n",
    "print(list_1)"
   ]
  },
  {
   "cell_type": "code",
   "execution_count": 9,
   "metadata": {},
   "outputs": [
    {
     "name": "stdout",
     "output_type": "stream",
     "text": [
      "['This', 'is', 'a', 'sentence', '.', 1, 'another string', 't', 'e', 's', 't', '12', 3, 'another', 'list', True]\n"
     ]
    }
   ],
   "source": [
    "# An alternative for the \"+\" operator for combining two lists is the \"extend\" method\n",
    "list_1.extend([\"another\",\"list\",True])\n",
    "\n",
    "print(list_1)"
   ]
  },
  {
   "cell_type": "code",
   "execution_count": 10,
   "metadata": {},
   "outputs": [
    {
     "name": "stdout",
     "output_type": "stream",
     "text": [
      "This\n",
      "['a', 'sentence', '.']\n"
     ]
    }
   ],
   "source": [
    "# You can access elements in the list using slicing in a simlar manner than in strings\n",
    "\n",
    "print(list_1[0])\n",
    "\n",
    "print(list_1[2:5])"
   ]
  },
  {
   "cell_type": "code",
   "execution_count": 11,
   "metadata": {},
   "outputs": [
    {
     "name": "stdout",
     "output_type": "stream",
     "text": [
      "12\n",
      "3\n",
      "1212\n",
      "6\n"
     ]
    }
   ],
   "source": [
    "# You can observe that all elements of the list retain their original type\n",
    "\n",
    "# This is a string \"12\"\n",
    "print(list_1[11])\n",
    "\n",
    "# This is the number 3\n",
    "print(list_1[12])\n",
    "\n",
    "\n",
    "# They behave differently if you multiply them\n",
    "\n",
    "# This is a string \"1212\"\n",
    "print(list_1[11]*2)\n",
    "\n",
    "# This is the number 6\n",
    "print(list_1[12]*2)"
   ]
  },
  {
   "cell_type": "code",
   "execution_count": 12,
   "metadata": {},
   "outputs": [
    {
     "name": "stdout",
     "output_type": "stream",
     "text": [
      "['Deez', 'is', 'a', 'sentence', '.', 1, 'another string', 't', 'e', 's', 't', '12', 3, 'another', 'list', True]\n"
     ]
    }
   ],
   "source": [
    "# Unlike strings, lists allow you to change their elements\n",
    "list_1[0] = \"Deez\"\n",
    "\n",
    "print(list_1)"
   ]
  },
  {
   "cell_type": "code",
   "execution_count": 13,
   "metadata": {},
   "outputs": [
    {
     "name": "stdout",
     "output_type": "stream",
     "text": [
      "['this', 'is', 'another', 'list', 'this']\n",
      "['is', 'another', 'list', 'this']\n",
      "['is', 'another', 'list']\n"
     ]
    }
   ],
   "source": [
    "# The \"remove\" method removes all entries with a particular value\n",
    "list_2 = [\"this\",\"is\",\"another\",\"list\",\"this\"]\n",
    "\n",
    "print(list_2)\n",
    "\n",
    "list_2.remove(\"this\")\n",
    "\n",
    "print(list_2)\n",
    "\n",
    "list_2.remove(\"this\")\n",
    "\n",
    "print(list_2)"
   ]
  },
  {
   "cell_type": "code",
   "execution_count": 14,
   "metadata": {},
   "outputs": [
    {
     "name": "stdout",
     "output_type": "stream",
     "text": [
      "0\n"
     ]
    }
   ],
   "source": [
    "# The \"index\" method gives you the id of the first element with a particular value\n",
    "list_2 = [\"this\",\"is\",\"another\",\"list\",\"this\"]\n",
    "\n",
    "print(list_2.index(\"this\"))"
   ]
  },
  {
   "cell_type": "code",
   "execution_count": 15,
   "metadata": {},
   "outputs": [
    {
     "name": "stdout",
     "output_type": "stream",
     "text": [
      "Found it!\n",
      "Not here!\n"
     ]
    }
   ],
   "source": [
    "# The \"in\" operator checks whether a value can be found in a list\n",
    "if \"is\" in list_2:\n",
    "    print(\"Found it!\")\n",
    "    \n",
    "if \"what\" in list_2:\n",
    "    print(\"Found that too!\")\n",
    "else:\n",
    "    print(\"Not here!\")"
   ]
  },
  {
   "cell_type": "code",
   "execution_count": 16,
   "metadata": {},
   "outputs": [
    {
     "name": "stdout",
     "output_type": "stream",
     "text": [
      "{'name': 'Venelin', 'group': 2, 'pass': True, 'grade': 10}\n"
     ]
    }
   ],
   "source": [
    "# A dictionary is a data type that has keys and values\n",
    "# Similar to lists, dictionaries can contain any data types\n",
    "dict_1 = {}\n",
    "\n",
    "dict_1[\"name\"] = \"Venelin\"\n",
    "dict_1[\"group\"] = 2\n",
    "dict_1[\"pass\"] = True\n",
    "dict_1[\"grade\"] = 10\n",
    "\n",
    "print(dict_1)\n"
   ]
  },
  {
   "cell_type": "code",
   "execution_count": 17,
   "metadata": {},
   "outputs": [
    {
     "name": "stdout",
     "output_type": "stream",
     "text": [
      "Venelin\n"
     ]
    }
   ],
   "source": [
    "# You can access different values using their key\n",
    "print(dict_1[\"name\"])"
   ]
  },
  {
   "cell_type": "code",
   "execution_count": 18,
   "metadata": {},
   "outputs": [
    {
     "ename": "KeyError",
     "evalue": "'age'",
     "output_type": "error",
     "traceback": [
      "\u001b[1;31m---------------------------------------------------------------------------\u001b[0m",
      "\u001b[1;31mKeyError\u001b[0m                                  Traceback (most recent call last)",
      "\u001b[1;32m<ipython-input-18-9606b025d20d>\u001b[0m in \u001b[0;36m<module>\u001b[1;34m\u001b[0m\n\u001b[0;32m      1\u001b[0m \u001b[1;31m# If you access a key that has not been created, you will get an error\u001b[0m\u001b[1;33m\u001b[0m\u001b[1;33m\u001b[0m\u001b[1;33m\u001b[0m\u001b[0m\n\u001b[1;32m----> 2\u001b[1;33m \u001b[0mprint\u001b[0m\u001b[1;33m(\u001b[0m\u001b[0mdict_1\u001b[0m\u001b[1;33m[\u001b[0m\u001b[1;34m\"age\"\u001b[0m\u001b[1;33m]\u001b[0m\u001b[1;33m)\u001b[0m\u001b[1;33m\u001b[0m\u001b[1;33m\u001b[0m\u001b[0m\n\u001b[0m",
      "\u001b[1;31mKeyError\u001b[0m: 'age'"
     ]
    }
   ],
   "source": [
    "# If you access a key that has not been created, you will get an error\n",
    "print(dict_1[\"age\"])"
   ]
  },
  {
   "cell_type": "code",
   "execution_count": 19,
   "metadata": {},
   "outputs": [
    {
     "name": "stdout",
     "output_type": "stream",
     "text": [
      "9\n"
     ]
    }
   ],
   "source": [
    "# You can change the values of the different keys\n",
    "\n",
    "# The -= operator is similar to the += operator\n",
    "dict_1[\"grade\"] -= 1\n",
    "\n",
    "print(dict_1[\"grade\"])"
   ]
  },
  {
   "cell_type": "markdown",
   "metadata": {},
   "source": [
    "Building statistics for word frequencies.\n",
    "\n",
    "The task for this class would be to start working with text data and build word statistics.\n",
    "\n",
    "You will be given a very simple text (10 sentences). You have three objectives:\n",
    "\n",
    "1) To split the sentences (strings) into pseudo-tokens using the \"split\" function\n",
    "2) To create a list of all words in the vocabulary\n",
    "3) To create a dictionary for all words in the vocabulary with their frequencies\n",
    "\n",
    "There are quite a few \"advanced\" exercises if you finish quickly enough, but these three are the most important for the class"
   ]
  },
  {
   "cell_type": "code",
   "execution_count": 20,
   "metadata": {},
   "outputs": [
    {
     "name": "stdout",
     "output_type": "stream",
     "text": [
      "['Desocupado lector: sin juramento me podrás creer que quisiera que este libro, como hijo del entendimiento, fuera el más hermoso, el más gallardo y más discreto que pudiera imaginarse.', 'Pero no he podido yo contravenir al orden de naturaleza; que en ella cada cosa engendra su semejante.', 'Y así, ¿qué podrá engendrar el estéril y mal cultivado ingenio mío, sino la historia de un hijo seco, avellanado, antojadizo y lleno de pensamientos varios y nunca imaginados de otro alguno, bien como quien se engendró en una cárcel, donde toda incomodidad tiene su asiento y donde todo triste ruido hace su habitación?', 'El sosiego, el lugar apacible, la amenidad de los campos, la serenidad de los cielos, el murmurar de las fuentes, la quietud del espíritu son grande parte para que las musas más estériles se muestren fecundas y ofrezcan partos al mundo que le colmen de maravilla y de contento.', 'Acontece tener un padre un hijo feo y sin gracia alguna, y el amor que le tiene le pone una venda en los ojos para que no vea sus faltas, antes las juzga por discreciones y lindezas y las cuenta a sus amigos por agudezas y donaires.', 'Pero yo, que, aunque parezco padre, soy padrastro de Don Quijote, no quiero irme con la corriente del uso, ni suplicarte, casi con las lágrimas en los ojos, como otros hacen, lector carísimo, que perdones o disimules las faltas que en este mi hijo vieres; y ni eres su pariente ni su amigo, y tienes tu alma en tu cuerpo y tu libre albedrío como el más pintado, y estás en tu casa, donde eres señor della, como el rey de sus alcabalas, y sabes lo que comúnmente se dice: que debajo de mi manto, al rey mato.', 'Todo lo cual te esenta y hace libre de todo respecto y obligación; y así, puedes decir de la historia todo aquello que te pareciere, sin temor que te calunien por el mal ni te premien por el bien que dijeres della.']\n"
     ]
    }
   ],
   "source": [
    "# This is the initial text that you will be using for the analysis\n",
    "# It is a list of strings, where every string is a sentence\n",
    "\n",
    "corpus_1 = []\n",
    "corpus_1.append(\"Desocupado lector: sin juramento me podrás creer que quisiera que este libro, como hijo del entendimiento, fuera el más hermoso, el más gallardo y más discreto que pudiera imaginarse.\")\n",
    "corpus_1.append(\"Pero no he podido yo contravenir al orden de naturaleza; que en ella cada cosa engendra su semejante.\")\n",
    "corpus_1.append(\"Y así, ¿qué podrá engendrar el estéril y mal cultivado ingenio mío, sino la historia de un hijo seco, avellanado, antojadizo y lleno de pensamientos varios y nunca imaginados de otro alguno, bien como quien se engendró en una cárcel, donde toda incomodidad tiene su asiento y donde todo triste ruido hace su habitación?\")\n",
    "corpus_1.append(\"El sosiego, el lugar apacible, la amenidad de los campos, la serenidad de los cielos, el murmurar de las fuentes, la quietud del espíritu son grande parte para que las musas más estériles se muestren fecundas y ofrezcan partos al mundo que le colmen de maravilla y de contento.\")\n",
    "corpus_1.append(\"Acontece tener un padre un hijo feo y sin gracia alguna, y el amor que le tiene le pone una venda en los ojos para que no vea sus faltas, antes las juzga por discreciones y lindezas y las cuenta a sus amigos por agudezas y donaires.\")\n",
    "corpus_1.append(\"Pero yo, que, aunque parezco padre, soy padrastro de Don Quijote, no quiero irme con la corriente del uso, ni suplicarte, casi con las lágrimas en los ojos, como otros hacen, lector carísimo, que perdones o disimules las faltas que en este mi hijo vieres; y ni eres su pariente ni su amigo, y tienes tu alma en tu cuerpo y tu libre albedrío como el más pintado, y estás en tu casa, donde eres señor della, como el rey de sus alcabalas, y sabes lo que comúnmente se dice: que debajo de mi manto, al rey mato.\")\n",
    "corpus_1.append(\"Todo lo cual te esenta y hace libre de todo respecto y obligación; y así, puedes decir de la historia todo aquello que te pareciere, sin temor que te calunien por el mal ni te premien por el bien que dijeres della.\")\n",
    "    \n",
    "\n",
    "print(corpus_1)"
   ]
  },
  {
   "cell_type": "code",
   "execution_count": 21,
   "metadata": {},
   "outputs": [
    {
     "name": "stdout",
     "output_type": "stream",
     "text": [
      "['Some', 'string', 'with', 'some', 'white-space', 'separation.']\n"
     ]
    }
   ],
   "source": [
    "# Observe the folowing string method\n",
    "string_2 = \"Some string with some white-space separation.\"\n",
    "list_3 = string_2.split()\n",
    "print(list_3)"
   ]
  },
  {
   "cell_type": "code",
   "execution_count": 26,
   "metadata": {},
   "outputs": [
    {
     "name": "stdout",
     "output_type": "stream",
     "text": [
      "['Desocupado', 'lector:', 'sin', 'juramento', 'me']\n",
      "['Desocupado', 'lector:', 'sin', 'juramento', 'me', 'podrás', 'creer', 'que', 'quisiera', 'que', 'este', 'libro,', 'como', 'hijo', 'del', 'entendimiento,', 'fuera', 'el', 'más', 'hermoso,', 'el', 'más', 'gallardo', 'y', 'más', 'discreto', 'que', 'pudiera', 'imaginarse.']\n",
      "['Desocupado', 'lector:', 'sin', 'juramento', 'me']\n",
      "['Pero', 'no', 'he', 'podido', 'yo']\n"
     ]
    }
   ],
   "source": [
    "# Task 1: Word segmentation\n",
    "# Read every sentence in the \"corpus\" and separate the words using a \"split\" method\n",
    "# You can keep the result in a single list for the whole corpus or in a list of lists where you also keep the sentence segmentation\n",
    "# Try both strategies if you can\n",
    "\n",
    "\n",
    "### Solution ###\n",
    "\n",
    "# We can keep the corpus in two different formats\n",
    "# We initialize both variables\n",
    "corp_tok = []\n",
    "corp_sen = []\n",
    "\n",
    "\n",
    "# Iterate through all sentences\n",
    "for sentence in corpus_1:\n",
    "    # Split the sentence\n",
    "    sentence_split = sentence.split()\n",
    "    \n",
    "    # We add the data to each of the corpus formats\n",
    "    \n",
    "    # This line \"extends\" corp_toc\n",
    "    # This is the same as corp_toc = corp_toc + sentence_split\n",
    "    # A corp toc is a single list with ALL the words\n",
    "    # i.e.: [word1, word2, word3, word4 ....]\n",
    "    corp_tok.extend(sentence_split)\n",
    "    \n",
    "    # This line \"appends\" sentence_split to corp_sen\n",
    "    # Remember that \"append\" adds ONE element to the list\n",
    "    # In this case the \"element\" that we add is another list\n",
    "    # corp_sen is a list of lists. Each of the lists within corp_sen is a sentence (list of strings, where each string is a word)\n",
    "    corp_sen.append(sentence_split)\n",
    "    \n",
    "\n",
    "# Observe the difference between the two:\n",
    "# The first 5 words of the corpus\n",
    "print(corp_tok[:5])\n",
    "\n",
    "# The first sentence of the corpus\n",
    "print(corp_sen[0])\n",
    "\n",
    "# The first 5 words of the first sentence of the corpus (same as corp_toc[:5])\n",
    "print(corp_sen[0][:5])\n",
    "\n",
    "# The first 5 words of the SECOND sentence of the corpus - you cannot easily do this with corp_toc\n",
    "print(corp_sen[1][:5])\n"
   ]
  },
  {
   "cell_type": "code",
   "execution_count": 28,
   "metadata": {},
   "outputs": [
    {
     "name": "stdout",
     "output_type": "stream",
     "text": [
      "200\n",
      "337\n"
     ]
    }
   ],
   "source": [
    "# Task 2\n",
    "# Create a list of the vocabulary of the corpus\n",
    "# Remember, the vocabulary should contain every word just once, no repetitions\n",
    "\n",
    "\n",
    "### Solution ###\n",
    "\n",
    "# We create a variable to keep our vocabulary\n",
    "vocabulary = []\n",
    "\n",
    "# We loop through the corp_toc list\n",
    "for word in corp_tok:\n",
    "    # For every word in the tokenized corpus we check if it is in the vocabulary\n",
    "    if word not in vocabulary:\n",
    "        # if it is NOT in the vocabulary, we add it\n",
    "        vocabulary.append(word)\n",
    "        \n",
    "    # Otherwise, we do nothing, because we already have this word\n",
    "    \n",
    "# Let's check how many words we have in the vocabulary\n",
    "print(len(vocabulary))\n",
    "\n",
    "\n",
    "# Let's compare it with the length of the corpus\n",
    "print(len(corp_tok))\n",
    "\n",
    "# There are many other ways to get the vocabulary - you can use corp_sen instead, you can also use continue"
   ]
  },
  {
   "cell_type": "code",
   "execution_count": 32,
   "metadata": {},
   "outputs": [
    {
     "name": "stdout",
     "output_type": "stream",
     "text": [
      "20\n",
      "1\n"
     ]
    }
   ],
   "source": [
    "# Task 3:\n",
    "# Create a frequency dictionary for words in the corpus\n",
    "# The dictionary fomat should be the following:\n",
    "# dict_2[\"word\"] = frequency\n",
    "\n",
    "\n",
    "### Solution ###\n",
    "\n",
    "# Creating a dictionary is very similar to creating the vocabulary\n",
    "# I will show you two different ways to do it - using the vocabulary and not using it\n",
    "\n",
    "# We start by creating the dictionary:\n",
    "freq_dict = {}\n",
    "\n",
    "# We loop through the corp_toc list\n",
    "for word in corp_tok:\n",
    "    # For every word in the tokenized corpus we check if it is in the dictionary\n",
    "    if word not in freq_dict:\n",
    "        # if it is NOT in the vocabulary, we add it with a default frequency of 1 (we just saw the word)\n",
    "        freq_dict[word] = 1\n",
    "    # If the word is already in the vocabulary, we increase the number with 1\n",
    "    else:\n",
    "        freq_dict[word] += 1\n",
    "\n",
    "\n",
    "# Let's check the frequency of \"yo\" and \"y\"\n",
    "print(freq_dict[\"y\"])\n",
    "\n",
    "print(freq_dict[\"yo\"])\n"
   ]
  },
  {
   "cell_type": "code",
   "execution_count": 34,
   "metadata": {},
   "outputs": [
    {
     "ename": "KeyError",
     "evalue": "'unknown_word'",
     "output_type": "error",
     "traceback": [
      "\u001b[1;31m---------------------------------------------------------------------------\u001b[0m",
      "\u001b[1;31mKeyError\u001b[0m                                  Traceback (most recent call last)",
      "\u001b[1;32m<ipython-input-34-43bba730e262>\u001b[0m in \u001b[0;36m<module>\u001b[1;34m\u001b[0m\n\u001b[0;32m      2\u001b[0m \u001b[1;31m# Remember - if we try to access a key that doesn't exist, we get an error\u001b[0m\u001b[1;33m\u001b[0m\u001b[1;33m\u001b[0m\u001b[1;33m\u001b[0m\u001b[0m\n\u001b[0;32m      3\u001b[0m \u001b[1;33m\u001b[0m\u001b[0m\n\u001b[1;32m----> 4\u001b[1;33m \u001b[0mfreq_dict\u001b[0m\u001b[1;33m[\u001b[0m\u001b[1;34m\"unknown_word\"\u001b[0m\u001b[1;33m]\u001b[0m \u001b[1;33m+=\u001b[0m\u001b[1;36m1\u001b[0m\u001b[1;33m\u001b[0m\u001b[1;33m\u001b[0m\u001b[0m\n\u001b[0m",
      "\u001b[1;31mKeyError\u001b[0m: 'unknown_word'"
     ]
    }
   ],
   "source": [
    "# Why did we need to check if a word is in the dictionary?\n",
    "# Remember - if we try to access a key that doesn't exist, we get an error\n",
    "\n",
    "freq_dict[\"unknown_word\"] +=1"
   ]
  },
  {
   "cell_type": "code",
   "execution_count": 35,
   "metadata": {},
   "outputs": [
    {
     "name": "stdout",
     "output_type": "stream",
     "text": [
      "20\n",
      "1\n"
     ]
    }
   ],
   "source": [
    "# But we already know all the words that we need? Can't we use the vocabulary instead?\n",
    "\n",
    "# We can, let's see how\n",
    "\n",
    "freq_dict_2 = {}\n",
    "\n",
    "# Let's just get through the whole vocabulary first, and for every word we create a new entry with a value 0\n",
    "for word in vocabulary:\n",
    "    freq_dict_2[word] = 0\n",
    "    \n",
    "# Now let's fill in the frequencies, without worrying about existing keys\n",
    "# We loop through the corp_toc list\n",
    "for word in corp_tok:\n",
    "    freq_dict_2[word] += 1\n",
    "    \n",
    "# Let's see if the results are the same:\n",
    "print(freq_dict_2[\"y\"])\n",
    "\n",
    "print(freq_dict_2[\"yo\"])"
   ]
  },
  {
   "cell_type": "code",
   "execution_count": 37,
   "metadata": {},
   "outputs": [],
   "source": [
    "# You can observe the results in task3 using these two predefined functions\n",
    "\n",
    " \n",
    "\n",
    "# Functions that print and plot statisitics\n",
    "# Do not change those\n",
    "import collections\n",
    "import matplotlib.pyplot as plt\n",
    "def mostCommonWords(d):\n",
    "    c = collections.Counter(d)\n",
    "    most = c.most_common(10)\n",
    "    print('Rank\\t\\tWord\\t\\tFrequency')\n",
    "    print('----\\t\\t----\\t\\t---------')\n",
    "    for i,(w,f) in enumerate(most):\n",
    "        print(str(i+1)+ '\\t\\t' + w + '\\t\\t' + str(f))\n",
    "\n",
    "def plot(d):\n",
    "    c = collections.Counter(d)\n",
    "    most = c.most_common()\n",
    "    plt.plot([x[1] for x in most])\n",
    "    plt.grid()\n",
    "    plt.xlabel('Word rank')\n",
    "    plt.ylabel('Frequency')\n",
    "    \n",
    "    \n"
   ]
  },
  {
   "cell_type": "code",
   "execution_count": 38,
   "metadata": {},
   "outputs": [
    {
     "name": "stdout",
     "output_type": "stream",
     "text": [
      "Rank\t\tWord\t\tFrequency\n",
      "----\t\t----\t\t---------\n",
      "1\t\ty\t\t20\n",
      "2\t\tque\t\t15\n",
      "3\t\tde\t\t14\n",
      "4\t\tel\t\t10\n",
      "5\t\ten\t\t7\n",
      "6\t\tla\t\t6\n",
      "7\t\tlas\t\t6\n",
      "8\t\tcomo\t\t5\n",
      "9\t\tmás\t\t5\n",
      "10\t\tsu\t\t5\n"
     ]
    }
   ],
   "source": [
    "# Let's visualize the results    \n",
    "mostCommonWords(freq_dict)"
   ]
  },
  {
   "cell_type": "code",
   "execution_count": 39,
   "metadata": {},
   "outputs": [
    {
     "data": {
      "image/png": "[encoded data removed]",
      "text/plain": [
       "<Figure size 432x288 with 1 Axes>"
      ]
     },
     "metadata": {
      "needs_background": "light"
     },
     "output_type": "display_data"
    }
   ],
   "source": [
    "plot(freq_dict)"
   ]
  },
  {
   "cell_type": "code",
   "execution_count": null,
   "metadata": {},
   "outputs": [],
   "source": []
  }
 ],
 "metadata": {
  "kernelspec": {
   "display_name": "Python 3",
   "language": "python",
   "name": "python3"
  },
  "language_info": {
   "codemirror_mode": {
    "name": "ipython",
    "version": 3
   },
   "file_extension": ".py",
   "mimetype": "text/x-python",
   "name": "python",
   "nbconvert_exporter": "python",
   "pygments_lexer": "ipython3",
   "version": "3.7.4"
  }
 },
 "nbformat": 4,
 "nbformat_minor": 2
}
