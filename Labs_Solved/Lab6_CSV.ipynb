{
 "cells": [
  {
   "cell_type": "markdown",
   "metadata": {},
   "source": [
    "# Python for Linguists\n",
    "\n",
    "Notebook 6: CSV format\n",
    "\n",
    "Venelin Kovatchev\n",
    "\n",
    "University of Barcelona 2020"
   ]
  },
  {
   "cell_type": "markdown",
   "metadata": {},
   "source": [
    "#### CSV format\n",
    "\n",
    "CSV is a special, \"coma separated\" format of files that is often used in programming.\n",
    "\n",
    "In order to process csv, you need to \"import\" the csv library."
   ]
  },
  {
   "cell_type": "code",
   "execution_count": 1,
   "metadata": {},
   "outputs": [],
   "source": [
    "import csv"
   ]
  },
  {
   "cell_type": "code",
   "execution_count": 2,
   "metadata": {},
   "outputs": [
    {
     "name": "stdout",
     "output_type": "stream",
     "text": [
      "['Release Year,Title,Origin/Ethnicity,Director,Cast,Genre,Wiki Page,Plot\\n', '1901,Kansas Saloon Smashers,American,Unknown,,unknown,https://en.wikipedia.org/wiki/Kansas_Saloon_Smashers,\"A bartender is working at a saloon, serving drinks to customers. After he fills a stereotypically Irish man\\'s bucket with beer, Carrie Nation and her followers burst inside. They assault the Irish man, pulling his hat over his eyes and then dumping the beer over his head. The group then begin wrecking the bar, smashing the fixtures, mirrors, and breaking the cash register. The bartender then sprays seltzer water in Nation\\'s face before a group of policemen appear and order everybody to leave.[1]\"\\n', '1901,Love by the Light of the Moon,American,Unknown,,unknown,https://en.wikipedia.org/wiki/Love_by_the_Light_of_the_Moon,\"The moon, painted with a smiling face hangs over a park at night. A young couple walking past a fence learn on a railing and look up. The moon smiles. They embrace, and the moon\\'s smile gets bigger. They then sit down on a bench by a tree. The moon\\'s view is blocked, causing him to frown. In the last scene, the man fans the woman with his hat because the moon has left the sky and is perched over her shoulder to see everything better.\"\\n', '1901,The Martyred Presidents,American,Unknown,,unknown,https://en.wikipedia.org/wiki/The_Martyred_Presidents,\"The film, just over a minute long, is composed of two shots. In the first, a girl sits at the base of an altar or tomb, her face hidden from the camera. At the center of the altar, a viewing portal displays the portraits of three U.S. Presidents—Abraham Lincoln, James A. Garfield, and William McKinley—each victims of assassination.\\n', 'In the second shot, which runs just over eight seconds long, an assassin kneels feet of Lady Justice.\"\\n']\n",
      "\n",
      "\n",
      "1901,The Martyred Presidents,American,Unknown,,unknown,https://en.wikipedia.org/wiki/The_Martyred_Presidents,\"The film, just over a minute long, is composed of two shots. In the first, a girl sits at the base of an altar or tomb, her face hidden from the camera. At the center of the altar, a viewing portal displays the portraits of three U.S. Presidents—Abraham Lincoln, James A. Garfield, and William McKinley—each victims of assassination.\n",
      "\n",
      "In the second shot, which runs just over eight seconds long, an assassin kneels feet of Lady Justice.\"\n",
      "\n"
     ]
    }
   ],
   "source": [
    "# The following code reads the csv file as a normal file\n",
    "file_name = \"movie_plots.csv\"\n",
    "num_lines = 0\n",
    "raw_corpus = []\n",
    "\n",
    "with open(file_name,\"r\",encoding=\"utf-8\") as inp:\n",
    "    for file_line in inp:\n",
    "        raw_corpus.append(file_line)\n",
    "        num_lines +=1\n",
    "        if num_lines >= 5:\n",
    "            break\n",
    "            \n",
    "# As you can see, it works, however it is hard to read\n",
    "# You can see in the last line that reading the csv as a text file splits the line in two\n",
    "print(raw_corpus)\n",
    "print(\"\\n\")\n",
    "print(raw_corpus[3])\n",
    "print(raw_corpus[4])\n"
   ]
  },
  {
   "cell_type": "code",
   "execution_count": 3,
   "metadata": {},
   "outputs": [
    {
     "name": "stdout",
     "output_type": "stream",
     "text": [
      "[['Release Year', 'Title', 'Origin/Ethnicity', 'Director', 'Cast', 'Genre', 'Wiki Page', 'Plot'], ['1901', 'Kansas Saloon Smashers', 'American', 'Unknown', '', 'unknown', 'https://en.wikipedia.org/wiki/Kansas_Saloon_Smashers', \"A bartender is working at a saloon, serving drinks to customers. After he fills a stereotypically Irish man's bucket with beer, Carrie Nation and her followers burst inside. They assault the Irish man, pulling his hat over his eyes and then dumping the beer over his head. The group then begin wrecking the bar, smashing the fixtures, mirrors, and breaking the cash register. The bartender then sprays seltzer water in Nation's face before a group of policemen appear and order everybody to leave.[1]\"], ['1901', 'Love by the Light of the Moon', 'American', 'Unknown', '', 'unknown', 'https://en.wikipedia.org/wiki/Love_by_the_Light_of_the_Moon', \"The moon, painted with a smiling face hangs over a park at night. A young couple walking past a fence learn on a railing and look up. The moon smiles. They embrace, and the moon's smile gets bigger. They then sit down on a bench by a tree. The moon's view is blocked, causing him to frown. In the last scene, the man fans the woman with his hat because the moon has left the sky and is perched over her shoulder to see everything better.\"], ['1901', 'The Martyred Presidents', 'American', 'Unknown', '', 'unknown', 'https://en.wikipedia.org/wiki/The_Martyred_Presidents', 'The film, just over a minute long, is composed of two shots. In the first, a girl sits at the base of an altar or tomb, her face hidden from the camera. At the center of the altar, a viewing portal displays the portraits of three U.S. Presidents—Abraham Lincoln, James A. Garfield, and William McKinley—each victims of assassination.\\nIn the second shot, which runs just over eight seconds long, an assassin kneels feet of Lady Justice.'], ['1901', 'Terrible Teddy, the Grizzly King', 'American', 'Unknown', '', 'unknown', 'https://en.wikipedia.org/wiki/Terrible_Teddy,_the_Grizzly_King', 'Lasting just 61 seconds and consisting of two shots, the first shot is set in a wood during winter. The actor representing then vice-president Theodore Roosevelt enthusiastically hurries down a hillside towards a tree in the foreground. He falls once, but rights himself and cocks his rifle. Two other men, bearing signs reading \"His Photographer\" and \"His Press Agent\" respectively, follow him into the shot; the photographer sets up his camera. \"Teddy\" aims his rifle upward at the tree and fells what appears to be a common house cat, which he then proceeds to stab. \"Teddy\" holds his prize aloft, and the press agent takes notes. The second shot is taken in a slightly different part of the wood, on a path. \"Teddy\" rides the path on his horse towards the camera and out to the left of the shot, followed closely by the press agent and photographer, still dutifully holding their signs.']]\n",
      "\n",
      "\n",
      "['1901', 'The Martyred Presidents', 'American', 'Unknown', '', 'unknown', 'https://en.wikipedia.org/wiki/The_Martyred_Presidents', 'The film, just over a minute long, is composed of two shots. In the first, a girl sits at the base of an altar or tomb, her face hidden from the camera. At the center of the altar, a viewing portal displays the portraits of three U.S. Presidents—Abraham Lincoln, James A. Garfield, and William McKinley—each victims of assassination.\\nIn the second shot, which runs just over eight seconds long, an assassin kneels feet of Lady Justice.']\n",
      "['1901', 'Terrible Teddy, the Grizzly King', 'American', 'Unknown', '', 'unknown', 'https://en.wikipedia.org/wiki/Terrible_Teddy,_the_Grizzly_King', 'Lasting just 61 seconds and consisting of two shots, the first shot is set in a wood during winter. The actor representing then vice-president Theodore Roosevelt enthusiastically hurries down a hillside towards a tree in the foreground. He falls once, but rights himself and cocks his rifle. Two other men, bearing signs reading \"His Photographer\" and \"His Press Agent\" respectively, follow him into the shot; the photographer sets up his camera. \"Teddy\" aims his rifle upward at the tree and fells what appears to be a common house cat, which he then proceeds to stab. \"Teddy\" holds his prize aloft, and the press agent takes notes. The second shot is taken in a slightly different part of the wood, on a path. \"Teddy\" rides the path on his horse towards the camera and out to the left of the shot, followed closely by the press agent and photographer, still dutifully holding their signs.']\n"
     ]
    }
   ],
   "source": [
    "# The following code reads the csv file as a list using the csv library\n",
    "file_name = \"movie_plots.csv\"\n",
    "num_lines = 0\n",
    "list_corpus = []\n",
    "\n",
    "with open(file_name,\"r\",encoding=\"utf-8\") as inp:\n",
    "    reader=csv.reader(inp)\n",
    "    for file_row in reader:\n",
    "        list_corpus.append(file_row)\n",
    "        num_lines +=1\n",
    "        if num_lines >= 5:\n",
    "            break\n",
    "            \n",
    "# This is better than before - it's easier to read and doesn't split entries\n",
    "print(list_corpus)\n",
    "print(\"\\n\")\n",
    "print(list_corpus[3])\n",
    "print(list_corpus[4])"
   ]
  },
  {
   "cell_type": "code",
   "execution_count": 4,
   "metadata": {},
   "outputs": [
    {
     "name": "stdout",
     "output_type": "stream",
     "text": [
      "[OrderedDict([('Release Year', '1901'), ('Title', 'Kansas Saloon Smashers'), ('Origin/Ethnicity', 'American'), ('Director', 'Unknown'), ('Cast', ''), ('Genre', 'unknown'), ('Wiki Page', 'https://en.wikipedia.org/wiki/Kansas_Saloon_Smashers'), ('Plot', \"A bartender is working at a saloon, serving drinks to customers. After he fills a stereotypically Irish man's bucket with beer, Carrie Nation and her followers burst inside. They assault the Irish man, pulling his hat over his eyes and then dumping the beer over his head. The group then begin wrecking the bar, smashing the fixtures, mirrors, and breaking the cash register. The bartender then sprays seltzer water in Nation's face before a group of policemen appear and order everybody to leave.[1]\")]), OrderedDict([('Release Year', '1901'), ('Title', 'Love by the Light of the Moon'), ('Origin/Ethnicity', 'American'), ('Director', 'Unknown'), ('Cast', ''), ('Genre', 'unknown'), ('Wiki Page', 'https://en.wikipedia.org/wiki/Love_by_the_Light_of_the_Moon'), ('Plot', \"The moon, painted with a smiling face hangs over a park at night. A young couple walking past a fence learn on a railing and look up. The moon smiles. They embrace, and the moon's smile gets bigger. They then sit down on a bench by a tree. The moon's view is blocked, causing him to frown. In the last scene, the man fans the woman with his hat because the moon has left the sky and is perched over her shoulder to see everything better.\")]), OrderedDict([('Release Year', '1901'), ('Title', 'The Martyred Presidents'), ('Origin/Ethnicity', 'American'), ('Director', 'Unknown'), ('Cast', ''), ('Genre', 'unknown'), ('Wiki Page', 'https://en.wikipedia.org/wiki/The_Martyred_Presidents'), ('Plot', 'The film, just over a minute long, is composed of two shots. In the first, a girl sits at the base of an altar or tomb, her face hidden from the camera. At the center of the altar, a viewing portal displays the portraits of three U.S. Presidents—Abraham Lincoln, James A. Garfield, and William McKinley—each victims of assassination.\\nIn the second shot, which runs just over eight seconds long, an assassin kneels feet of Lady Justice.')]), OrderedDict([('Release Year', '1901'), ('Title', 'Terrible Teddy, the Grizzly King'), ('Origin/Ethnicity', 'American'), ('Director', 'Unknown'), ('Cast', ''), ('Genre', 'unknown'), ('Wiki Page', 'https://en.wikipedia.org/wiki/Terrible_Teddy,_the_Grizzly_King'), ('Plot', 'Lasting just 61 seconds and consisting of two shots, the first shot is set in a wood during winter. The actor representing then vice-president Theodore Roosevelt enthusiastically hurries down a hillside towards a tree in the foreground. He falls once, but rights himself and cocks his rifle. Two other men, bearing signs reading \"His Photographer\" and \"His Press Agent\" respectively, follow him into the shot; the photographer sets up his camera. \"Teddy\" aims his rifle upward at the tree and fells what appears to be a common house cat, which he then proceeds to stab. \"Teddy\" holds his prize aloft, and the press agent takes notes. The second shot is taken in a slightly different part of the wood, on a path. \"Teddy\" rides the path on his horse towards the camera and out to the left of the shot, followed closely by the press agent and photographer, still dutifully holding their signs.')]), OrderedDict([('Release Year', '1902'), ('Title', 'Jack and the Beanstalk'), ('Origin/Ethnicity', 'American'), ('Director', 'George S. Fleming, Edwin S. Porter'), ('Cast', ''), ('Genre', 'unknown'), ('Wiki Page', 'https://en.wikipedia.org/wiki/Jack_and_the_Beanstalk_(1902_film)'), ('Plot', \"The earliest known adaptation of the classic fairytale, this films shows Jack trading his cow for the beans, his mother forcing him to drop them in the front yard, and beig forced upstairs. As he sleeps, Jack is visited by a fairy who shows him glimpses of what will await him when he ascends the bean stalk. In this version, Jack is the son of a deposed king. When Jack wakes up, he finds the beanstalk has grown and he climbs to the top where he enters the giant's home. The giant finds Jack, who narrowly escapes. The giant chases Jack down the bean stalk, but Jack is able to cut it down before the giant can get to safety. He falls and is killed as Jack celebrates. The fairy then reveals that Jack may return home as a prince.\")])]\n",
      "\n",
      "\n",
      "OrderedDict([('Release Year', '1901'), ('Title', 'Terrible Teddy, the Grizzly King'), ('Origin/Ethnicity', 'American'), ('Director', 'Unknown'), ('Cast', ''), ('Genre', 'unknown'), ('Wiki Page', 'https://en.wikipedia.org/wiki/Terrible_Teddy,_the_Grizzly_King'), ('Plot', 'Lasting just 61 seconds and consisting of two shots, the first shot is set in a wood during winter. The actor representing then vice-president Theodore Roosevelt enthusiastically hurries down a hillside towards a tree in the foreground. He falls once, but rights himself and cocks his rifle. Two other men, bearing signs reading \"His Photographer\" and \"His Press Agent\" respectively, follow him into the shot; the photographer sets up his camera. \"Teddy\" aims his rifle upward at the tree and fells what appears to be a common house cat, which he then proceeds to stab. \"Teddy\" holds his prize aloft, and the press agent takes notes. The second shot is taken in a slightly different part of the wood, on a path. \"Teddy\" rides the path on his horse towards the camera and out to the left of the shot, followed closely by the press agent and photographer, still dutifully holding their signs.')])\n",
      "OrderedDict([('Release Year', '1902'), ('Title', 'Jack and the Beanstalk'), ('Origin/Ethnicity', 'American'), ('Director', 'George S. Fleming, Edwin S. Porter'), ('Cast', ''), ('Genre', 'unknown'), ('Wiki Page', 'https://en.wikipedia.org/wiki/Jack_and_the_Beanstalk_(1902_film)'), ('Plot', \"The earliest known adaptation of the classic fairytale, this films shows Jack trading his cow for the beans, his mother forcing him to drop them in the front yard, and beig forced upstairs. As he sleeps, Jack is visited by a fairy who shows him glimpses of what will await him when he ascends the bean stalk. In this version, Jack is the son of a deposed king. When Jack wakes up, he finds the beanstalk has grown and he climbs to the top where he enters the giant's home. The giant finds Jack, who narrowly escapes. The giant chases Jack down the bean stalk, but Jack is able to cut it down before the giant can get to safety. He falls and is killed as Jack celebrates. The fairy then reveals that Jack may return home as a prince.\")])\n",
      "\n",
      " The Title of the third entry is:\n",
      "The Martyred Presidents\n"
     ]
    }
   ],
   "source": [
    "# The following code reads the csv file in a dictionary\n",
    "file_name = \"movie_plots.csv\"\n",
    "num_lines = 0\n",
    "dict_corpus = []\n",
    "\n",
    "with open(file_name,\"r\",encoding=\"utf-8\") as inp:\n",
    "    dict_reader=csv.DictReader(inp)\n",
    "    for file_row in dict_reader:\n",
    "        dict_corpus.append(file_row)\n",
    "        num_lines +=1\n",
    "        if num_lines >= 5:\n",
    "            break\n",
    "            \n",
    "# This is better than before, now we know what does each field stand\n",
    "print(dict_corpus)\n",
    "print(\"\\n\")\n",
    "print(dict_corpus[3])\n",
    "print(dict_corpus[4])\n",
    "\n",
    "\n",
    "# We can access specific \"data\" for each movie\n",
    "print(\"\\n The Title of the third entry is:\")\n",
    "print(dict_corpus[2][\"Title\"])"
   ]
  },
  {
   "cell_type": "code",
   "execution_count": 5,
   "metadata": {},
   "outputs": [
    {
     "name": "stdout",
     "output_type": "stream",
     "text": [
      "OrderedDict([('Release Year', '1901'), ('Title', 'Terrible Teddy, the Grizzly King'), ('Origin/Ethnicity', 'American'), ('Director', 'Unknown'), ('Cast', ''), ('Genre', 'unknown'), ('Wiki Page', 'https://en.wikipedia.org/wiki/Terrible_Teddy,_the_Grizzly_King'), ('Plot', 'Lasting just 61 seconds and consisting of two shots, the first shot is set in a wood during winter. The actor representing then vice-president Theodore Roosevelt enthusiastically hurries down a hillside towards a tree in the foreground. He falls once, but rights himself and cocks his rifle. Two other men, bearing signs reading \"His Photographer\" and \"His Press Agent\" respectively, follow him into the shot; the photographer sets up his camera. \"Teddy\" aims his rifle upward at the tree and fells what appears to be a common house cat, which he then proceeds to stab. \"Teddy\" holds his prize aloft, and the press agent takes notes. The second shot is taken in a slightly different part of the wood, on a path. \"Teddy\" rides the path on his horse towards the camera and out to the left of the shot, followed closely by the press agent and photographer, still dutifully holding their signs.')])\n",
      "{'Release Year': '1901', 'Title': 'Terrible Teddy, the Grizzly King', 'Origin/Ethnicity': 'American', 'Director': 'Unknown', 'Cast': '', 'Genre': 'unknown', 'Wiki Page': 'https://en.wikipedia.org/wiki/Terrible_Teddy,_the_Grizzly_King', 'Plot': 'Lasting just 61 seconds and consisting of two shots, the first shot is set in a wood during winter. The actor representing then vice-president Theodore Roosevelt enthusiastically hurries down a hillside towards a tree in the foreground. He falls once, but rights himself and cocks his rifle. Two other men, bearing signs reading \"His Photographer\" and \"His Press Agent\" respectively, follow him into the shot; the photographer sets up his camera. \"Teddy\" aims his rifle upward at the tree and fells what appears to be a common house cat, which he then proceeds to stab. \"Teddy\" holds his prize aloft, and the press agent takes notes. The second shot is taken in a slightly different part of the wood, on a path. \"Teddy\" rides the path on his horse towards the camera and out to the left of the shot, followed closely by the press agent and photographer, still dutifully holding their signs.'}\n"
     ]
    }
   ],
   "source": [
    "# Task 1: manually creating a dictionary\n",
    "# \n",
    "# This task will practice your general programming skills and your understanding of the csv formats\n",
    "# The objective is to manually create the \"dictionary\" from the csv using the normal \"list\" reader\n",
    "#\n",
    "# The csv.reader reads the file line by line and returns a list\n",
    "# Your task is to convert this list into a dictionary\n",
    "# First you need to go through the first line in the file and get the \"names\" of the different fields\n",
    "# Then, for each line in the file you need to read the \"values\" and assign them to the corresponding dictionary fields\n",
    "\n",
    "\n",
    "\n",
    "# Solution\n",
    "\n",
    "# We srtart with example 3, reading the csv into a list\n",
    "\n",
    "file_name = \"movie_plots.csv\"\n",
    "num_lines = 0\n",
    "list_corpus = []\n",
    "\n",
    "with open(file_name,\"r\",encoding=\"utf-8\") as inp:\n",
    "    reader=csv.reader(inp)\n",
    "    for file_row in reader:\n",
    "        list_corpus.append(file_row)\n",
    "        num_lines +=1\n",
    "        if num_lines >= 5:\n",
    "            break\n",
    "            \n",
    "# We initialize a new counter that we will use when going through the \"list\"\n",
    "cur_position = 0\n",
    "\n",
    "# We initialize a list where we want to put the result\n",
    "dict_corpus_2 = []\n",
    "\n",
    "# We go through the list line by line:\n",
    "for line_list in list_corpus:\n",
    "    # We check if this is the first line\n",
    "    if cur_position == 0:\n",
    "        # If it is, then we need to take the \"keys\", from this position\n",
    "        list_keys = line_list\n",
    "    else:\n",
    "        # If it is NOT, then we need to create a dictionary\n",
    "        # We create an empty dictionary every time\n",
    "        cur_dict = {}\n",
    "        \n",
    "        # We make a \"trick\" to get the IDs of each list\n",
    "        # len(line_list) will give us the number of elements in the list (8)\n",
    "        # range(len(line_list)) will gives us a list from 0 to the number of elements [0,1,2,3,4,5,6,7]\n",
    "        for cur_element in range(len(line_list)):\n",
    "            # We combine the \"position\" from the key list with the same position in the value list\n",
    "            cur_dict[list_keys[cur_element]]=line_list[cur_element]\n",
    "        \n",
    "        # We add the dictionary to the list of the results\n",
    "        dict_corpus_2.append(cur_dict)\n",
    "    # Increase the counter\n",
    "    cur_position +=1\n",
    "        \n",
    "print(dict_corpus[3])  \n",
    "print(dict_corpus_2[3])\n"
   ]
  },
  {
   "cell_type": "code",
   "execution_count": 6,
   "metadata": {},
   "outputs": [
    {
     "data": {
      "text/plain": [
       "[{'Release Year': '1901',\n",
       "  'Title': 'Kansas Saloon Smashers',\n",
       "  'Origin/Ethnicity': 'American',\n",
       "  'Director': 'Unknown',\n",
       "  'Cast': '',\n",
       "  'Genre': 'unknown',\n",
       "  'Wiki Page': 'https://en.wikipedia.org/wiki/Kansas_Saloon_Smashers',\n",
       "  'Plot': \"A bartender is working at a saloon, serving drinks to customers. After he fills a stereotypically Irish man's bucket with beer, Carrie Nation and her followers burst inside. They assault the Irish man, pulling his hat over his eyes and then dumping the beer over his head. The group then begin wrecking the bar, smashing the fixtures, mirrors, and breaking the cash register. The bartender then sprays seltzer water in Nation's face before a group of policemen appear and order everybody to leave.[1]\"},\n",
       " {'Release Year': '1901',\n",
       "  'Title': 'Love by the Light of the Moon',\n",
       "  'Origin/Ethnicity': 'American',\n",
       "  'Director': 'Unknown',\n",
       "  'Cast': '',\n",
       "  'Genre': 'unknown',\n",
       "  'Wiki Page': 'https://en.wikipedia.org/wiki/Love_by_the_Light_of_the_Moon',\n",
       "  'Plot': \"The moon, painted with a smiling face hangs over a park at night. A young couple walking past a fence learn on a railing and look up. The moon smiles. They embrace, and the moon's smile gets bigger. They then sit down on a bench by a tree. The moon's view is blocked, causing him to frown. In the last scene, the man fans the woman with his hat because the moon has left the sky and is perched over her shoulder to see everything better.\"},\n",
       " {'Release Year': '1901',\n",
       "  'Title': 'The Martyred Presidents',\n",
       "  'Origin/Ethnicity': 'American',\n",
       "  'Director': 'Unknown',\n",
       "  'Cast': '',\n",
       "  'Genre': 'unknown',\n",
       "  'Wiki Page': 'https://en.wikipedia.org/wiki/The_Martyred_Presidents',\n",
       "  'Plot': 'The film, just over a minute long, is composed of two shots. In the first, a girl sits at the base of an altar or tomb, her face hidden from the camera. At the center of the altar, a viewing portal displays the portraits of three U.S. Presidents—Abraham Lincoln, James A. Garfield, and William McKinley—each victims of assassination.\\nIn the second shot, which runs just over eight seconds long, an assassin kneels feet of Lady Justice.'},\n",
       " {'Release Year': '1901',\n",
       "  'Title': 'Terrible Teddy, the Grizzly King',\n",
       "  'Origin/Ethnicity': 'American',\n",
       "  'Director': 'Unknown',\n",
       "  'Cast': '',\n",
       "  'Genre': 'unknown',\n",
       "  'Wiki Page': 'https://en.wikipedia.org/wiki/Terrible_Teddy,_the_Grizzly_King',\n",
       "  'Plot': 'Lasting just 61 seconds and consisting of two shots, the first shot is set in a wood during winter. The actor representing then vice-president Theodore Roosevelt enthusiastically hurries down a hillside towards a tree in the foreground. He falls once, but rights himself and cocks his rifle. Two other men, bearing signs reading \"His Photographer\" and \"His Press Agent\" respectively, follow him into the shot; the photographer sets up his camera. \"Teddy\" aims his rifle upward at the tree and fells what appears to be a common house cat, which he then proceeds to stab. \"Teddy\" holds his prize aloft, and the press agent takes notes. The second shot is taken in a slightly different part of the wood, on a path. \"Teddy\" rides the path on his horse towards the camera and out to the left of the shot, followed closely by the press agent and photographer, still dutifully holding their signs.'}]"
      ]
     },
     "execution_count": 6,
     "metadata": {},
     "output_type": "execute_result"
    }
   ],
   "source": [
    "final_dict = []\n",
    "\n",
    "for curr_line in list_corpus[1:]:\n",
    "    output = dict([(key,value) for key, value in zip(list_corpus[0],curr_line)])\n",
    "    final_dict.append(output)\n",
    "final_dict"
   ]
  },
  {
   "cell_type": "code",
   "execution_count": null,
   "metadata": {},
   "outputs": [],
   "source": []
  }
 ],
 "metadata": {
  "kernelspec": {
   "display_name": "Python 3",
   "language": "python",
   "name": "python3"
  },
  "language_info": {
   "codemirror_mode": {
    "name": "ipython",
    "version": 3
   },
   "file_extension": ".py",
   "mimetype": "text/x-python",
   "name": "python",
   "nbconvert_exporter": "python",
   "pygments_lexer": "ipython3",
   "version": "3.7.4"
  }
 },
 "nbformat": 4,
 "nbformat_minor": 2
}
