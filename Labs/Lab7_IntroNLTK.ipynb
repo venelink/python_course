{
 "cells": [
  {
   "cell_type": "markdown",
   "metadata": {},
   "source": [
    "# Python for Linguists\n",
    "\n",
    "Notebook 7: Introduction to NLTK\n",
    "\n",
    "Venelin Kovatchev\n",
    "\n",
    "University of Barcelona 2020"
   ]
  },
  {
   "cell_type": "markdown",
   "metadata": {},
   "source": [
    "In this notebook we will start working with NLTK.\n",
    "\n",
    "We will load a corpus and try to process it.\n",
    "\n",
    "We will apply simple transformations like sentence segmentation and tokenization.\n",
    "\n",
    "We will calculate basic statistics using loops as well as nltk built-in functions."
   ]
  },
  {
   "cell_type": "code",
   "execution_count": null,
   "metadata": {},
   "outputs": [],
   "source": [
    "# Import nltk\n",
    "import nltk"
   ]
  },
  {
   "cell_type": "code",
   "execution_count": null,
   "metadata": {},
   "outputs": [],
   "source": [
    "# Download the important packages for today\n",
    "nltk.download()"
   ]
  },
  {
   "cell_type": "code",
   "execution_count": null,
   "metadata": {},
   "outputs": [],
   "source": [
    "# Import all resources needed for today\n",
    "from nltk.corpus import reuters\n",
    "from nltk import sent_tokenize\n",
    "from nltk.tokenize import *\n",
    "from nltk.corpus import stopwords\n",
    "from nltk import FreqDist\n",
    "from nltk import bigrams"
   ]
  },
  {
   "cell_type": "code",
   "execution_count": null,
   "metadata": {},
   "outputs": [],
   "source": [
    "# Get the identifiers for all files in the reuters corpus\n",
    "print(reuters.fileids())"
   ]
  },
  {
   "cell_type": "code",
   "execution_count": null,
   "metadata": {},
   "outputs": [],
   "source": [
    "# We will start by working with just one file, 'test/14826'\n",
    "c_fid = 'test/14826'\n",
    "\n",
    "# Let's get the raw version of this file\n",
    "test_raw = reuters.raw(c_fid)\n",
    "\n",
    "print(test_raw)"
   ]
  },
  {
   "cell_type": "code",
   "execution_count": null,
   "metadata": {},
   "outputs": [],
   "source": [
    "# Let's get the tokenized version of this file\n",
    "test_tok = reuters.words(c_fid)\n",
    "\n",
    "print(test_tok[0:30])"
   ]
  },
  {
   "cell_type": "code",
   "execution_count": null,
   "metadata": {},
   "outputs": [],
   "source": [
    "# Let's get the tokenized and sentence segmented version of this file\n",
    "test_sent = reuters.sents(c_fid)\n",
    "\n",
    "print(test_sent[0])"
   ]
  },
  {
   "cell_type": "code",
   "execution_count": null,
   "metadata": {},
   "outputs": [],
   "source": [
    "# NLTK has a tool that can automatically tokenize a corpus\n",
    "manual_tok = word_tokenize(test_raw)\n",
    "\n",
    "# Let's see the tokenized corpus\n",
    "# Compare it with the test_tok corpus\n",
    "print(manual_tok[0:30])"
   ]
  },
  {
   "cell_type": "code",
   "execution_count": null,
   "metadata": {},
   "outputs": [],
   "source": [
    "# Now let's use the split function to separate words\n",
    "split_tok = test_raw.split()\n",
    "\n",
    "# Let's see and compare this version as well\n",
    "print(split_tok[0:30])"
   ]
  },
  {
   "cell_type": "code",
   "execution_count": null,
   "metadata": {},
   "outputs": [],
   "source": [
    "# NLTK also has a tool that can automatically separate a corpus by sentences\n",
    "manual_sent = sent_tokenize(test_raw)\n",
    "\n",
    "# Observe the first two sentences\n",
    "print(manual_sent[0:2])"
   ]
  },
  {
   "cell_type": "code",
   "execution_count": null,
   "metadata": {},
   "outputs": [],
   "source": [
    "# NLTK has a tool that can count the frequency of the words in a corpus\n",
    "fd = FreqDist(test_tok)\n",
    "print(fd.most_common(10))\n",
    "fd.plot(10)\n"
   ]
  },
  {
   "cell_type": "code",
   "execution_count": null,
   "metadata": {},
   "outputs": [],
   "source": [
    "# NLTK has a function that calculates the bigrams from a list of tokens\n",
    "# Observe the following\n",
    "test_bigr = list(bigrams(test_tok))\n",
    "\n",
    "print(test_bigr[0:5])"
   ]
  },
  {
   "cell_type": "code",
   "execution_count": null,
   "metadata": {},
   "outputs": [],
   "source": [
    "# Task 1\n",
    "# \n",
    "# Tokenize the reuters corpus using \"split\" and \"word_tokenize\"\n",
    "# Compare the result with the already tokenized version of the corpus\n",
    "# \n",
    "# First write your code for a single file id ('test/14826')\n",
    "# After that run the code on the whole corpus (without providing any id)\n",
    "# \n",
    "# Compare  the results\n",
    "# Count the number of tokens in each \"corpus\"\n",
    "# Count the number of \"types\" in each \"corpus\" (types = unique tokens)\n"
   ]
  },
  {
   "cell_type": "code",
   "execution_count": null,
   "metadata": {},
   "outputs": [],
   "source": [
    "# Task 2\n",
    "# \n",
    "# For the corpus created with word_tokenize, calculate the most frequent words\n",
    "# \n",
    "#    - by counting manually (as we did in the previous classes)\n",
    "#    - by using FreqDist\n",
    "#\n",
    "#    Compare the most frequent words - are the numbers the same?"
   ]
  },
  {
   "cell_type": "code",
   "execution_count": null,
   "metadata": {},
   "outputs": [],
   "source": [
    "# Task 3\n",
    "# \n",
    "# For the corpus created with word tokenize and the pre-tokenized corpus, obtain a list of bigrams\n",
    "# Calculate and compare the frequency distribution of the bigrams for the two corpora\n",
    "# "
   ]
  },
  {
   "cell_type": "code",
   "execution_count": null,
   "metadata": {},
   "outputs": [],
   "source": [
    "# Advanced Tasks\n",
    "# \n",
    "# Task 3 - calculate the frequency of words in the corpus, ignoring multiple repetitions of the word in a sentence\n",
    "# e.g.: [\"this is not that, rather is this!\",\"it is really dissappointing, but it is what it is\"]\n",
    "#       \n",
    "#       In this corpus:\n",
    "#           the frequency of \"this\" is 1 (1 in sent 1, 0 in sent 2)\n",
    "#           the frequency of \"is\" is 2 (1 in sent 1, 1 in sent 2)\n",
    "#           The frequency of \"it\" is 1 (0 in sent 1, 1 in sent 2)\n",
    "#       We ignore multiple repetitions within the same sentence\n",
    "#\n",
    "#       In this task you can either use the existing corpus that is sentence segmented and tokenized\n",
    "#       or use sent_tokenize and word_tokenize"
   ]
  },
  {
   "cell_type": "code",
   "execution_count": null,
   "metadata": {},
   "outputs": [],
   "source": [
    "# Advanced tasks\n",
    "# \n",
    "# Task 4 - similar to task 3, calculate the frequency of bigrams ignoring multiple repetitions within the same sentence"
   ]
  }
 ],
 "metadata": {
  "kernelspec": {
   "display_name": "Python 3",
   "language": "python",
   "name": "python3"
  },
  "language_info": {
   "codemirror_mode": {
    "name": "ipython",
    "version": 3
   },
   "file_extension": ".py",
   "mimetype": "text/x-python",
   "name": "python",
   "nbconvert_exporter": "python",
   "pygments_lexer": "ipython3",
   "version": "3.7.4"
  }
 },
 "nbformat": 4,
 "nbformat_minor": 2
}
