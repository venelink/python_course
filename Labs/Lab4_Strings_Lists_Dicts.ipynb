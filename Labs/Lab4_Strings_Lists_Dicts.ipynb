{
 "cells": [
  {
   "cell_type": "markdown",
   "metadata": {},
   "source": [
    "# Python for Linguists\n",
    "\n",
    "Notebook 4: Strings, Lists, Dictionaries \n",
    "\n",
    "Venelin Kovatchev\n",
    "\n",
    "University of Barcelona 2020"
   ]
  },
  {
   "cell_type": "markdown",
   "metadata": {},
   "source": [
    "### Strings, Lists, Dictionaries\n",
    "\n",
    "In this notebook we will practice with three data types: strings, lists, and dictionaries\n",
    "We will also practice more with loops and decision structures.\n",
    "\n",
    "In this lab we will start working with text data and text statistics.\n",
    "\n"
   ]
  },
  {
   "cell_type": "code",
   "execution_count": null,
   "metadata": {},
   "outputs": [],
   "source": [
    "# Remember the string data type\n",
    "# A string is a sequence of characters\n",
    "string_1 = \"This is a single string variable.\"\n",
    "\n",
    "# You can add characters to a string using the \"+\" operator\n",
    "string_1 += \" It now contains two sentences.\"\n",
    "\n",
    "# Remember the += operator\n",
    "# string_1 += \" It now contains two sentences.\" \n",
    "#    is the same as:\n",
    "# string_1 = string_1 + \" It now contains two sentences.\"\n",
    "\n",
    "\n",
    "print(string_1)\n",
    "\n"
   ]
  },
  {
   "cell_type": "code",
   "execution_count": null,
   "metadata": {},
   "outputs": [],
   "source": [
    "# You can access parts of the string using indexes and slices\n",
    "\n",
    "# Remember that counting in python starts from 0\n",
    "# 0th character is in fact the first\n",
    "# 1st character is in fact the second\n",
    "# The following line will print the SECOND character of string_1\n",
    "print(string_1[1])"
   ]
  },
  {
   "cell_type": "code",
   "execution_count": null,
   "metadata": {},
   "outputs": [],
   "source": [
    "# You can slice a part of a string by providing \"start\" and \"end\" of the string\n",
    "# The fofllowing will print characters starting from 0 until 3 excluding 3 (that is, characters 0, 1, and 2)\n",
    "print(string_1[0:3])"
   ]
  },
  {
   "cell_type": "code",
   "execution_count": null,
   "metadata": {},
   "outputs": [],
   "source": [
    "# You can NOT use indexing to change a part of a string\n",
    "# Try the following code\n",
    "string_1[0] = \"D\"\n",
    "\n",
    "print(string_1)"
   ]
  },
  {
   "cell_type": "code",
   "execution_count": null,
   "metadata": {},
   "outputs": [],
   "source": [
    "# The list variable is a sequence of objects\n",
    "# It is similar to a string, but can contain elements that are not characters\n",
    "list_1 = [\"This\",\"is\",\"a\",\"sentence\",\".\"]\n",
    "\n",
    "# You can concatenate LISTS using the \"+\" operator\n",
    "\n",
    "list_1 += [1,\"another string\"]\n",
    "\n",
    "print(list_1)"
   ]
  },
  {
   "cell_type": "code",
   "execution_count": null,
   "metadata": {},
   "outputs": [],
   "source": [
    "# What will the following code do?\n",
    "# Will it work?\n",
    "# Why?\n",
    "# Does the result surprise you?\n",
    "\n",
    "list_1 += \"test\"\n",
    "\n",
    "print(list_1)"
   ]
  },
  {
   "cell_type": "code",
   "execution_count": null,
   "metadata": {},
   "outputs": [],
   "source": [
    "# What will the following code do?\n",
    "# Will it work?\n",
    "# Why?\n",
    "# Does the result surprise you?\n",
    "\n",
    "list_1 += 1\n",
    "\n",
    "print(list_1)"
   ]
  },
  {
   "cell_type": "code",
   "execution_count": null,
   "metadata": {},
   "outputs": [],
   "source": [
    "# If you want to add a single element to a list, you should use the \"append\" method\n",
    "\n",
    "list_1.append(\"12\")\n",
    "list_1.append(3)\n",
    "\n",
    "print(list_1)"
   ]
  },
  {
   "cell_type": "code",
   "execution_count": null,
   "metadata": {},
   "outputs": [],
   "source": [
    "# An alternative for the \"+\" operator for combining two lists is the \"extend\" method\n",
    "list_1.extend([\"another\",\"list\",True])\n",
    "\n",
    "print(list_1)"
   ]
  },
  {
   "cell_type": "code",
   "execution_count": null,
   "metadata": {},
   "outputs": [],
   "source": [
    "# You can access elements in the list using slicing in a simlar manner than in strings\n",
    "\n",
    "print(list_1[0])\n",
    "\n",
    "print(list_1[2:5])"
   ]
  },
  {
   "cell_type": "code",
   "execution_count": null,
   "metadata": {},
   "outputs": [],
   "source": [
    "# You can observe that all elements of the list retain their original type\n",
    "\n",
    "# This is a string \"12\"\n",
    "print(list_1[11])\n",
    "\n",
    "# This is the number 3\n",
    "print(list_1[12])\n",
    "\n",
    "\n",
    "# They behave differently if you multiply them\n",
    "\n",
    "# This is a string \"1212\"\n",
    "print(list_1[11]*2)\n",
    "\n",
    "# This is the number 6\n",
    "print(list_1[12]*2)"
   ]
  },
  {
   "cell_type": "code",
   "execution_count": null,
   "metadata": {},
   "outputs": [],
   "source": [
    "# Unlike strings, lists allow you to change their elements\n",
    "list_1[0] = \"Deez\"\n",
    "\n",
    "print(list_1)"
   ]
  },
  {
   "cell_type": "code",
   "execution_count": null,
   "metadata": {},
   "outputs": [],
   "source": [
    "# The \"remove\" method removes all entries with a particular value\n",
    "list_2 = [\"this\",\"is\",\"another\",\"list\",\"this\"]\n",
    "\n",
    "print(list_2)\n",
    "\n",
    "list_2.remove(\"this\")\n",
    "\n",
    "print(list_2)\n",
    "\n",
    "list_2.remove(\"this\")\n",
    "\n",
    "print(list_2)"
   ]
  },
  {
   "cell_type": "code",
   "execution_count": null,
   "metadata": {},
   "outputs": [],
   "source": [
    "# The \"index\" method gives you the id of the first element with a particular value\n",
    "list_2 = [\"this\",\"is\",\"another\",\"list\",\"this\"]\n",
    "\n",
    "print(list_2.index(\"this\"))"
   ]
  },
  {
   "cell_type": "code",
   "execution_count": null,
   "metadata": {},
   "outputs": [],
   "source": [
    "# The \"in\" operator checks whether a value can be found in a list\n",
    "if \"is\" in list_2:\n",
    "    print(\"Found it!\")\n",
    "    \n",
    "if \"what\" in list_2:\n",
    "    print(\"Found that too!\")\n",
    "else:\n",
    "    print(\"Not here!\")"
   ]
  },
  {
   "cell_type": "code",
   "execution_count": null,
   "metadata": {},
   "outputs": [],
   "source": [
    "# A dictionary is a data type that has keys and values\n",
    "# Similar to lists, dictionaries can contain any data types\n",
    "dict_1 = {}\n",
    "\n",
    "dict_1[\"name\"] = \"Venelin\"\n",
    "dict_1[\"group\"] = 2\n",
    "dict_1[\"pass\"] = True\n",
    "dict_1[\"grade\"] = 10\n",
    "\n",
    "print(dict_1)\n"
   ]
  },
  {
   "cell_type": "code",
   "execution_count": null,
   "metadata": {},
   "outputs": [],
   "source": [
    "# You can access different values using their key\n",
    "print(dict_1[\"name\"])"
   ]
  },
  {
   "cell_type": "code",
   "execution_count": null,
   "metadata": {},
   "outputs": [],
   "source": [
    "# If you access a key that has not been created, you will get an error\n",
    "print(dict_1[\"age\"])"
   ]
  },
  {
   "cell_type": "code",
   "execution_count": null,
   "metadata": {},
   "outputs": [],
   "source": [
    "# You can change the values of the different keys\n",
    "\n",
    "# The -= operator is similar to the += operator\n",
    "dict_1[\"grade\"] -= 1\n",
    "\n",
    "print(dict_1[\"grade\"])"
   ]
  },
  {
   "cell_type": "markdown",
   "metadata": {},
   "source": [
    "Building statistics for word frequencies.\n",
    "\n",
    "The task for this class would be to start working with text data and build word statistics.\n",
    "\n",
    "You will be given a very simple text (10 sentences). You have three objectives:\n",
    "\n",
    "1) To split the sentences (strings) into pseudo-tokens using the \"split\" function\n",
    "2) To create a list of all words in the vocabulary\n",
    "3) To create a dictionary for all words in the vocabulary with their frequencies\n",
    "\n",
    "There are quite a few \"advanced\" exercises if you finish quickly enough, but these three are the most important for the class"
   ]
  },
  {
   "cell_type": "code",
   "execution_count": null,
   "metadata": {},
   "outputs": [],
   "source": [
    "# This is the initial text that you will be using for the analysis\n",
    "# It is a list of strings, where every string is a sentence\n",
    "\n",
    "corpus_1 = []\n",
    "corpus_1.append(\"Desocupado lector: sin juramento me podrás creer que quisiera que este libro, como hijo del entendimiento, fuera el más hermoso, el más gallardo y más discreto que pudiera imaginarse.\")\n",
    "corpus_1.append(\"Pero no he podido yo contravenir al orden de naturaleza; que en ella cada cosa engendra su semejante.\")\n",
    "corpus_1.append(\"Y así, ¿qué podrá engendrar el estéril y mal cultivado ingenio mío, sino la historia de un hijo seco, avellanado, antojadizo y lleno de pensamientos varios y nunca imaginados de otro alguno, bien como quien se engendró en una cárcel, donde toda incomodidad tiene su asiento y donde todo triste ruido hace su habitación?\")\n",
    "corpus_1.append(\"El sosiego, el lugar apacible, la amenidad de los campos, la serenidad de los cielos, el murmurar de las fuentes, la quietud del espíritu son grande parte para que las musas más estériles se muestren fecundas y ofrezcan partos al mundo que le colmen de maravilla y de contento.\")\n",
    "corpus_1.append(\"Acontece tener un padre un hijo feo y sin gracia alguna, y el amor que le tiene le pone una venda en los ojos para que no vea sus faltas, antes las juzga por discreciones y lindezas y las cuenta a sus amigos por agudezas y donaires.\")\n",
    "corpus_1.append(\"Pero yo, que, aunque parezco padre, soy padrastro de Don Quijote, no quiero irme con la corriente del uso, ni suplicarte, casi con las lágrimas en los ojos, como otros hacen, lector carísimo, que perdones o disimules las faltas que en este mi hijo vieres; y ni eres su pariente ni su amigo, y tienes tu alma en tu cuerpo y tu libre albedrío como el más pintado, y estás en tu casa, donde eres señor della, como el rey de sus alcabalas, y sabes lo que comúnmente se dice: que debajo de mi manto, al rey mato.\")\n",
    "corpus_1.append(\"Todo lo cual te esenta y hace libre de todo respecto y obligación; y así, puedes decir de la historia todo aquello que te pareciere, sin temor que te calunien por el mal ni te premien por el bien que dijeres della.\")\n",
    "    \n",
    "\n",
    "print(corpus_1)"
   ]
  },
  {
   "cell_type": "code",
   "execution_count": null,
   "metadata": {},
   "outputs": [],
   "source": [
    "# Observe the folowing string method\n",
    "string_2 = \"Some string with some white-space separation.\"\n",
    "list_3 = string_2.split()\n",
    "print(list_3)"
   ]
  },
  {
   "cell_type": "code",
   "execution_count": null,
   "metadata": {},
   "outputs": [],
   "source": [
    "# Task 1: Word segmentation\n",
    "# Read every sentence in the \"corpus\" and separate the words using a \"split\" method\n",
    "# You can keep the result in a single list for the whole corpus or in a list of lists where you also keep the sentence segmentation\n",
    "# Try both strategies if you can\n",
    "\n"
   ]
  },
  {
   "cell_type": "code",
   "execution_count": null,
   "metadata": {},
   "outputs": [],
   "source": [
    "# Task 2\n",
    "# Create a list of the vocabulary of the corpus\n",
    "# Remember, the vocabulary should contain every word just once, no repetitions"
   ]
  },
  {
   "cell_type": "code",
   "execution_count": null,
   "metadata": {},
   "outputs": [],
   "source": [
    "# Task 3:\n",
    "# Create a frequency dictionary for words in the corpus\n",
    "# The dictionary fomat should be the following:\n",
    "# dict_2[\"word\"] = frequency\n",
    "\n",
    "\n",
    "    "
   ]
  },
  {
   "cell_type": "code",
   "execution_count": null,
   "metadata": {},
   "outputs": [],
   "source": [
    "# You can observe the results in task3 using these two predefined functions\n",
    "\n",
    " \n",
    "\n",
    "# Functions that print and plot statisitics\n",
    "# Do not change those\n",
    "import collections\n",
    "import matplotlib.pyplot as plt\n",
    "def mostCommonWords(d):\n",
    "    c = collections.Counter(d)\n",
    "    most = c.most_common(10)\n",
    "    print('Rank\\t\\tWord\\t\\tFrequency')\n",
    "    print('----\\t\\t----\\t\\t---------')\n",
    "    for i,(w,f) in enumerate(most):\n",
    "        print(str(i+1)+ '\\t\\t' + w + '\\t\\t' + str(f))\n",
    "\n",
    "def plot(d):\n",
    "    c = collections.Counter(d)\n",
    "    most = c.most_common()\n",
    "    plt.plot([x[1] for x in most])\n",
    "    plt.grid()\n",
    "    plt.xlabel('Word rank')\n",
    "    plt.ylabel('Frequency')\n",
    "    \n",
    "    \n"
   ]
  },
  {
   "cell_type": "code",
   "execution_count": null,
   "metadata": {},
   "outputs": [],
   "source": [
    "# Example frequency dictionary\n",
    "# When your code is ready, use your real dictionary instead\n",
    "\n",
    "import random\n",
    "example_dict = {}\n",
    "for cnt in range(50):\n",
    "    cur_word = \"word_\" + str(cnt)\n",
    "    example_dict[cur_word] = random.randint(1,100)\n",
    "    \n",
    "mostCommonWords(example_dict)\n",
    "\n",
    "plot(example_dict)"
   ]
  },
  {
   "cell_type": "code",
   "execution_count": null,
   "metadata": {},
   "outputs": [],
   "source": []
  },
  {
   "cell_type": "code",
   "execution_count": null,
   "metadata": {},
   "outputs": [],
   "source": []
  },
  {
   "cell_type": "code",
   "execution_count": null,
   "metadata": {},
   "outputs": [],
   "source": []
  },
  {
   "cell_type": "code",
   "execution_count": null,
   "metadata": {},
   "outputs": [],
   "source": []
  },
  {
   "cell_type": "code",
   "execution_count": null,
   "metadata": {},
   "outputs": [],
   "source": []
  }
 ],
 "metadata": {
  "kernelspec": {
   "display_name": "Python 3",
   "language": "python",
   "name": "python3"
  },
  "language_info": {
   "codemirror_mode": {
    "name": "ipython",
    "version": 3
   },
   "file_extension": ".py",
   "mimetype": "text/x-python",
   "name": "python",
   "nbconvert_exporter": "python",
   "pygments_lexer": "ipython3",
   "version": "3.7.4"
  }
 },
 "nbformat": 4,
 "nbformat_minor": 2
}
