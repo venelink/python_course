{
 "cells": [
  {
   "cell_type": "markdown",
   "metadata": {},
   "source": [
    "# Python for Linguists\n",
    "\n",
    "Notebook 2: Decision Structures. Loops. functions.\n",
    "\n",
    "Venelin Kovatchev\n",
    "\n",
    "University of Barcelona 2020"
   ]
  },
  {
   "cell_type": "markdown",
   "metadata": {},
   "source": [
    "### Decision Structures\n",
    "\n",
    "Decision structures determine the actions that a program takes.\n",
    "\n",
    "Decision structures have:\n",
    "* conditions\n",
    "* instructions (actions)\n",
    "\n",
    "Decision structures are introduced by the special word ``if`` and the special word ``else``"
   ]
  },
  {
   "cell_type": "code",
   "execution_count": null,
   "metadata": {},
   "outputs": [],
   "source": [
    "# We start by defining a variable\n",
    "# In a real program, we can get that variable from the environment\n",
    "# For example, we can get the current hour by finding a function that can tell us what is the time now\n",
    "# In order to test the program, we will have to manually change the \"hour\" variable\n",
    "hour = 9\n",
    "if hour < 12:\n",
    "    print('Good morning!')\n",
    "else:\n",
    "    print('Good day!')\n",
    "    \n"
   ]
  },
  {
   "cell_type": "code",
   "execution_count": null,
   "metadata": {},
   "outputs": [],
   "source": [
    "# Task 1:\n",
    "# Can you change the code in a way so that it can say\n",
    "# - \"Good morning\" if hour is <12\n",
    "# - \"Good day\" if hour is between 12 and 18\n",
    "# - \"Good evening\" if hour is >18"
   ]
  },
  {
   "cell_type": "code",
   "execution_count": null,
   "metadata": {},
   "outputs": [],
   "source": [
    "# Task 2:\n",
    "# Do the same as in task 1, but use <= and >= instead of < and >\n",
    "# If the hour is exactly 12, the program should say \"It's noon!\" instead of a greeting"
   ]
  },
  {
   "cell_type": "code",
   "execution_count": null,
   "metadata": {},
   "outputs": [],
   "source": [
    "# Task 3:\n",
    "# In this example we will check the \"validity\" of a new password\n",
    "\n",
    "# The old password is \"password\"\n",
    "old_password=\"password\"\n",
    "\n",
    "# This is the \"new\" password, you will have to change this value to test\n",
    "new_password=\"password\"\n",
    "\n",
    "# You need to check if the new password is the same as the old password\n",
    "# If it is, you should print an error message\n",
    "\n",
    "\n",
    "# If the new password is NOT the same, you should check if the new password is longer than 10 characters\n",
    "# If it is shorter than 10 characters you should print an error message\n",
    "# If it is longer than 10 characgters you should print a confirmation message that password is ok"
   ]
  },
  {
   "cell_type": "markdown",
   "metadata": {},
   "source": [
    "### Loops\n",
    "\n",
    "Loops allow us to execute the same code multiple times without explicitly writing it again.\n",
    "\n",
    "In this section we learned about the ``while`` loop. \n",
    "\n",
    "The while loop is very similar to decision structures. It also has conditions and instructions.\n",
    "\n",
    "The difference between a decision structure and a while loop is that the while loop is executed multiple times."
   ]
  },
  {
   "cell_type": "code",
   "execution_count": null,
   "metadata": {},
   "outputs": [],
   "source": [
    "# Here we will see the difference between using a loop and using a normal code\n",
    "# The following code prints \"Hello World\" five times\n",
    "print(\"Hello World\")\n",
    "print(\"Hello World\")\n",
    "print(\"Hello World\")\n",
    "print(\"Hello World\")\n",
    "print(\"Hello World\")"
   ]
  },
  {
   "cell_type": "code",
   "execution_count": null,
   "metadata": {},
   "outputs": [],
   "source": [
    "# Now we do the same using a while loop\n",
    "num_printed = 0\n",
    "while num_printed < 5:\n",
    "    print(\"Hello World\")\n",
    "    num_printed = num_printed +1"
   ]
  },
  {
   "cell_type": "code",
   "execution_count": null,
   "metadata": {},
   "outputs": [],
   "source": [
    "# Task 4:\n",
    "# Instead of printing just \"Hello World\", now print \"Hello World\" and the repetition number. Example:\n",
    "# Hello World 1\n",
    "# Hello World 2\n",
    "# Hello World 3\n",
    "# Use a while loop. Remember how you can concatenate strings! Remember how you can convert integer into string!"
   ]
  },
  {
   "cell_type": "markdown",
   "metadata": {},
   "source": [
    "### Functions and Methods\n",
    "\n",
    "Functions and methods are a way to \"name\" and \"reuse\" algorithms, the same way that variables are a way to \"name\" and \"reuse\" data.\n",
    "\n",
    "Functions have parameters and return codes"
   ]
  },
  {
   "cell_type": "code",
   "execution_count": null,
   "metadata": {},
   "outputs": [],
   "source": [
    "# Observe the example function from the slides\n",
    "\n",
    "def personal_q(age, gender):\n",
    "    if age <25:\n",
    "        young = True\n",
    "        if gender == \"f\":\n",
    "            print(\"Young woman!\")\n",
    "        else:\n",
    "            print(\"Young man!\")\n",
    "    else:\n",
    "        young = False\n",
    "        print (\"Wise person!\")\n",
    "    return young\n",
    "\n",
    "young = personal_q(23,\"f\")\n",
    "print(young)"
   ]
  },
  {
   "cell_type": "code",
   "execution_count": null,
   "metadata": {},
   "outputs": [],
   "source": [
    "# Write a function for the \"Greeting\" exercice\n",
    "# The parameter of the function should be the hour"
   ]
  },
  {
   "cell_type": "code",
   "execution_count": null,
   "metadata": {},
   "outputs": [],
   "source": [
    "# Write a function for the \"Password\" exercise\n",
    "# The parameter should be the NEW password"
   ]
  },
  {
   "cell_type": "markdown",
   "metadata": {},
   "source": [
    "### Advanced exercises\n",
    "\n",
    "The following exercises are a little more complicated than what we have so far. They will make use of everything that we have learned so far. "
   ]
  },
  {
   "cell_type": "markdown",
   "metadata": {},
   "source": [
    "### A random sentence\n",
    "Remember that a **while** block is executed repeatedly until its condition becomes False. The function **getRandomWord()**, defined below, when called in your code returns a String value containing a word or a period of end of sentence. We want to call such function repeatedly to construct a phrase with its output. The phrase may have any length, it can also be empty; the only requisite is that it finishes with a period. For the purposes of the exercise, you can just output the phrase by calling **print()** every time you get a new word, getting the sentence in vertical.\n",
    "\n",
    "*Hints:*\n",
    "* The result of a function can be stored in a variable, like ```word = getRandomWord()```\n",
    "* Make sure your **while** line works at all steps, including the first. Remember that code works sequentially from the top down. You might need to do something previous to the first iteration."
   ]
  },
  {
   "cell_type": "code",
   "execution_count": null,
   "metadata": {},
   "outputs": [],
   "source": [
    "# You don't need to modify the function\n",
    "def getRandomWord():\n",
    "    words = ['a', 'the', 'on', 'with', 'woman', 'man', 'cat', 'dog', 'working', 'at', 'boats', 'flying', '.']\n",
    "    import random\n",
    "    return random.choice(words)\n",
    "\n",
    "# Add your code here\n"
   ]
  },
  {
   "cell_type": "markdown",
   "metadata": {},
   "source": [
    "### Controlling long sentences\n",
    "Our first sentence generator was nice (?) but the length of the sentences is completely random, and at some runs it could get extremely long if we're unlucky. We want to prevent this by setting the maximum length of a sentence as 5 words (6 including the period). Rewrite your previous code with slight modifications to achieve it.\n",
    "\n",
    "*Hints:*\n",
    "* You need something to count the number of repetitions of your loop.\n",
    "* Remember that you can make boolean expressions as complex as you want (as long as they follow Python's rules), for instance with logical operators (and, or, not).\n",
    "* Make sure your program ends correctly (with a period) in all cases. You might need to add something to achieve this."
   ]
  },
  {
   "cell_type": "code",
   "execution_count": null,
   "metadata": {},
   "outputs": [],
   "source": [
    "# Add your code here\n"
   ]
  },
  {
   "cell_type": "markdown",
   "metadata": {},
   "source": [
    "### Avoiding successive repetitions of words\n",
    "In different runs of your cool sentence generator, you must have seen results like **\"man man working.\"**, and it's ugly that the same word appears repeatedly one after another. We want to get rid of that too. Rewrite your code to only print a word if it's different to the previous.\n",
    "\n",
    "*Hints:*\n",
    "* So far, you were probably only keeping the latest data, corresponding to the current iteration, and throwing it away when you generated new data. Now, think of what you need to have available at the i-th step and find a way to keep it before new data comes."
   ]
  },
  {
   "cell_type": "code",
   "execution_count": null,
   "metadata": {
    "scrolled": true
   },
   "outputs": [],
   "source": [
    "# Add your code here\n"
   ]
  },
  {
   "cell_type": "markdown",
   "metadata": {},
   "source": [
    "### Controlling short sequences\n",
    "We told our generator not to produce too long sentences. It would be cool to avoid very short phrases also. Rewrite your code to only produce sentences between 5 and 20 words, plus the period.\n",
    "\n",
    "*Hints:*\n",
    "* Remember that the period should only appear at the end of the sentence.\n",
    "* Some sort of distinction between a word that's a candidate to be added and a word that's actually added may be helpful.\n",
    "* Logical operators may help you again.\n",
    "* This exercise is more difficult than the rest. If you can't find a solution at your first try, simplify the problem, try to solve the things you understand, and progressively get closer to the real solution. Doing a sketch with a pencil and a paper before actually coding really helps."
   ]
  },
  {
   "cell_type": "code",
   "execution_count": null,
   "metadata": {},
   "outputs": [],
   "source": [
    "# Add your code here\n"
   ]
  },
  {
   "cell_type": "code",
   "execution_count": null,
   "metadata": {},
   "outputs": [],
   "source": []
  }
 ],
 "metadata": {
  "kernelspec": {
   "display_name": "Python 3",
   "language": "python",
   "name": "python3"
  },
  "language_info": {
   "codemirror_mode": {
    "name": "ipython",
    "version": 3
   },
   "file_extension": ".py",
   "mimetype": "text/x-python",
   "name": "python",
   "nbconvert_exporter": "python",
   "pygments_lexer": "ipython3",
   "version": "3.7.4"
  }
 },
 "nbformat": 4,
 "nbformat_minor": 2
}
