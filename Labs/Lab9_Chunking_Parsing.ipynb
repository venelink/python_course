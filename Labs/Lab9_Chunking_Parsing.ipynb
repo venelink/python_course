{
 "cells": [
  {
   "cell_type": "markdown",
   "metadata": {},
   "source": [
    "# Python for Linguists\n",
    "\n",
    "Notebook 9: Chunking and Parsing\n",
    "\n",
    "Venelin Kovatchev\n",
    "\n",
    "University of Barcelona 2020"
   ]
  },
  {
   "cell_type": "markdown",
   "metadata": {},
   "source": [
    "In this notebook we will see how we can do syntactic processing using NLTK. \n",
    "\n",
    "We will see two different approaches to syntax - chunking and full syntactic parsing."
   ]
  },
  {
   "cell_type": "code",
   "execution_count": 1,
   "metadata": {},
   "outputs": [],
   "source": [
    "# Import nltk\n",
    "import nltk"
   ]
  },
  {
   "cell_type": "code",
   "execution_count": 2,
   "metadata": {},
   "outputs": [
    {
     "name": "stderr",
     "output_type": "stream",
     "text": [
      "[nltk_data] Downloading package conll2000 to\n",
      "[nltk_data]     C:\\Users\\Venelin\\AppData\\Roaming\\nltk_data...\n",
      "[nltk_data]   Package conll2000 is already up-to-date!\n"
     ]
    },
    {
     "data": {
      "text/plain": [
       "True"
      ]
     },
     "execution_count": 2,
     "metadata": {},
     "output_type": "execute_result"
    }
   ],
   "source": [
    "# Download the important packages for today\n",
    "nltk.download(\"conll2000\")"
   ]
  },
  {
   "cell_type": "code",
   "execution_count": 3,
   "metadata": {},
   "outputs": [],
   "source": [
    "# Import corps for chunking\n",
    "from nltk.corpus import conll2000\n",
    "\n"
   ]
  },
  {
   "cell_type": "markdown",
   "metadata": {},
   "source": [
    "(Why) Text structure:\n",
    "\n",
    "- “The meaning of a complex expression is determined by the meanings of its constituent expressions and **the rules used to combine them**”\n",
    "    - Formal sentence structure, no semantics\n",
    "- “A dog bites a man” vs “A man bites a dog” – in a bag-of-words, these are the same\n",
    "- Compositional and non-compositional elements: “A dog bites John Smith”\n",
    "\n",
    "Parsing and generation:\n",
    "- “A Dog bites a man” -> who did what to whom (is the sentence possible at all)\n",
    "- “Dog”, “bite”, “man” -> what kind of sentences can be generated using these words"
   ]
  },
  {
   "cell_type": "markdown",
   "metadata": {},
   "source": [
    "Shallow parsing (chunking):\n",
    "- Linear I-O-B structure. \n",
    "- No hierarchy. No (complex) long distance dependencies.\n",
    "- Identify constituents.\n",
    "- More computationally effective and higher accuracy.\n",
    "- Can use a familiar approach (HMM)"
   ]
  },
  {
   "cell_type": "code",
   "execution_count": 4,
   "metadata": {},
   "outputs": [
    {
     "name": "stdout",
     "output_type": "stream",
     "text": [
      "Chunked sentence: (S\n",
      "  (PP Over/IN)\n",
      "  (NP a/DT cup/NN)\n",
      "  (PP of/IN)\n",
      "  (NP coffee/NN)\n",
      "  ,/,\n",
      "  (NP Mr./NNP Stone/NNP)\n",
      "  (VP told/VBD)\n",
      "  (NP his/PRP$ story/NN)\n",
      "  ./.)\n",
      "Chunked sentence in I-O-B format: [('Over', 'IN', 'B-PP'), ('a', 'DT', 'B-NP'), ('cup', 'NN', 'I-NP'), ('of', 'IN', 'B-PP'), ('coffee', 'NN', 'B-NP'), (',', ',', 'O'), ('Mr.', 'NNP', 'B-NP'), ('Stone', 'NNP', 'I-NP'), ('told', 'VBD', 'B-VP'), ('his', 'PRP$', 'B-NP'), ('story', 'NN', 'I-NP'), ('.', '.', 'O')]\n"
     ]
    }
   ],
   "source": [
    "# Split the conll corpus into test and train\n",
    "test_sents = conll2000.chunked_sents('test.txt')\n",
    "train_sents = conll2000.chunked_sents('train.txt')\n",
    "\n",
    "# See the format of the chunked corpus\n",
    "# Print the original format\n",
    "print(\"Chunked sentence: {}\".format(train_sents[99]))\n",
    "# Print the I-O-B format\n",
    "print(\"Chunked sentence in I-O-B format: {}\".format(nltk.chunk.tree2conlltags(train_sents[99])))\n",
    "# Draw a tree\n",
    "# The tree will appear in a separate window\n",
    "train_sents[99].draw()"
   ]
  },
  {
   "cell_type": "markdown",
   "metadata": {},
   "source": [
    "(Full) Syntactic parsing:\n",
    "- Assign a (hierarchical binary tree) structure to a sentence, given a grammar\n",
    "- Input: Grammar (pre-defined), sentence\n",
    "- Output: all possible trees (if any)\n",
    "\n",
    "Syntactic ambiguity (multiple parses for the same sentence)\n",
    "- Disambiguation through probabilistic grammers\n",
    "- Rule based (heuristic) disambiguation\n",
    "- Use of external resources (such as dictionaries, knowledge bases, and parsed corpora)\n",
    "\n",
    "Context free grammar:\n",
    "- sets of rules each of which expresses the ways the symbols of the language can be grouped and ordered together \n",
    "- a lexicon of words and symbols\n",
    "\n",
    "\n",
    "- terminal nodes – the lexicon of the language (actual words)\n",
    "- non-terminal nodes – generalization nodes (classes, such as POS)\n",
    "- start symbol (S)\n",
    "- derivation – a sequence of rule expansion (left to right)"
   ]
  },
  {
   "cell_type": "code",
   "execution_count": 5,
   "metadata": {},
   "outputs": [
    {
     "name": "stdout",
     "output_type": "stream",
     "text": [
      "(S (NP Mary) (VP (V saw) (NP Bob)))\n"
     ]
    }
   ],
   "source": [
    "# A simple CFG\n",
    "grammar1 = nltk.CFG.fromstring(\"\"\"\n",
    "  S -> NP VP\n",
    "  VP -> V NP | V NP PP\n",
    "  PP -> P NP\n",
    "  V -> \"saw\" | \"ate\" | \"walked\"\n",
    "  NP -> \"John\" | \"Mary\" | \"Bob\" | Det N | Det N PP\n",
    "  Det -> \"a\" | \"an\" | \"the\" | \"my\"\n",
    "  N -> \"man\" | \"dog\" | \"cat\" | \"telescope\" | \"park\"\n",
    "  P -> \"in\" | \"on\" | \"by\" | \"with\"\n",
    "  \"\"\")\n",
    "\n",
    "# Test sentence\n",
    "sent = \"Mary saw Bob\".split()\n",
    "\n",
    "# Parse the sentence using the grammar\n",
    "rd_parser = nltk.RecursiveDescentParser(grammar1)\n",
    "\n",
    "# Print all possible trees\n",
    "for tree in rd_parser.parse(sent):\n",
    "    print(tree)\n",
    "\n",
    "# Draw all possible trees\n",
    "for tree in rd_parser.parse(sent):\n",
    "    tree.draw()"
   ]
  },
  {
   "cell_type": "code",
   "execution_count": null,
   "metadata": {},
   "outputs": [],
   "source": [
    "# Observe the workings of the different parser algorithms\n",
    "\n",
    "# Top-down parser\n",
    "# - Start from “s”\n",
    "# - Generate a tree\n",
    "# - Map the tree to the terminal nodes\n",
    "\n",
    "nltk.app.rdparser()"
   ]
  },
  {
   "cell_type": "code",
   "execution_count": null,
   "metadata": {},
   "outputs": [],
   "source": [
    "# Bottom-up parser\n",
    "# - Start from the terminal nodes.\n",
    "# - Group them into phrases.\n",
    "# - Try to build up until S.\n",
    "nltk.app.srparser()"
   ]
  },
  {
   "cell_type": "code",
   "execution_count": null,
   "metadata": {},
   "outputs": [],
   "source": [
    "# Task 1\n",
    "# use grammar1 to parse each sentence in the following corpus:\n",
    "\n",
    "corpus = [['a', 'young', 'woman', 'walks', 'in', 'the', 'park'], \n",
    "['two', 'young', 'men', 'smile'], \n",
    "['a', 'young', 'woman', 'sees', 'two', 'men'], \n",
    "['sees', 'two', 'men', 'a', 'young', 'woman'], \n",
    "['a', 'young', 'woman', 'sees', 'two', 'old', 'men', 'in', 'the', 'park', 'with', 'a', 'telescope'], \n",
    "['a', 'young', 'woman', 'two', 'old', 'men', 'in', 'the', 'park', 'with', 'a', 'telescope', 'sees'], \n",
    "['two', 'angry', 'men', 'chase', 'a', 'woman', 'with', 'a', 'telescope'], \n",
    "['a', 'woman', 'I', 'know', 'owns', 'a', 'telescope'], \n",
    "['a', 'woman', 'I', 'know', 'a', 'telescope']]"
   ]
  },
  {
   "cell_type": "code",
   "execution_count": null,
   "metadata": {},
   "outputs": [],
   "source": [
    "# Task 2\n",
    "# Expand grammar1 with additional rules, so that you can see multiple parses for each sentence\n",
    "# You should obtain the following number of parses for the sentences in corpus 1:\n",
    "# “a young woman walks in the park” <- 1 parse\n",
    "# “two young men smile” <- 1 parse\n",
    "# “a young woman sees two men” <- 1 parse\n",
    "# “sees two men a young woman” <- 0 parses\n",
    "# “a young woman sees two old men in the park with a telescope” <- AT LEAST 3 parses\n",
    "# “a young woman two old men in the park with a telescope sees” <- 0 parses\n",
    "# “two angry men chase a woman with a telescope” <- 2 parses\n",
    "# “a woman I know owns a telescope” <- 1 parse\n",
    "# “a woman I know a telescope” <- 0 parses"
   ]
  }
 ],
 "metadata": {
  "kernelspec": {
   "display_name": "Python 3",
   "language": "python",
   "name": "python3"
  },
  "language_info": {
   "codemirror_mode": {
    "name": "ipython",
    "version": 3
   },
   "file_extension": ".py",
   "mimetype": "text/x-python",
   "name": "python",
   "nbconvert_exporter": "python",
   "pygments_lexer": "ipython3",
   "version": "3.7.4"
  }
 },
 "nbformat": 4,
 "nbformat_minor": 2
}
