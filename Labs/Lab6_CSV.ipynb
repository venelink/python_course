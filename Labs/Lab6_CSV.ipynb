{
 "cells": [
  {
   "cell_type": "markdown",
   "metadata": {},
   "source": [
    "# Python for Linguists\n",
    "\n",
    "Notebook 6: CSV format\n",
    "\n",
    "Venelin Kovatchev\n",
    "\n",
    "University of Barcelona 2020"
   ]
  },
  {
   "cell_type": "markdown",
   "metadata": {},
   "source": [
    "#### CSV format\n",
    "\n",
    "CSV is a special, \"coma separated\" format of files that is often used in programming.\n",
    "\n",
    "In order to process csv, you need to \"import\" the csv library."
   ]
  },
  {
   "cell_type": "code",
   "execution_count": null,
   "metadata": {},
   "outputs": [],
   "source": [
    "import csv"
   ]
  },
  {
   "cell_type": "code",
   "execution_count": null,
   "metadata": {},
   "outputs": [],
   "source": [
    "# The following code reads the csv file as a normal file\n",
    "file_name = \"movie_plots.csv\"\n",
    "num_lines = 0\n",
    "raw_corpus = []\n",
    "\n",
    "with open(file_name,\"r\",encoding=\"utf-8\") as inp:\n",
    "    for file_line in inp:\n",
    "        raw_corpus.append(file_line)\n",
    "        num_lines +=1\n",
    "        if num_lines >= 5:\n",
    "            break\n",
    "            \n",
    "# As you can see, it works, however it is hard to read\n",
    "# You can see in the last line that reading the csv as a text file splits the line in two\n",
    "print(raw_corpus)\n",
    "print(\"\\n\")\n",
    "print(raw_corpus[3])\n",
    "print(raw_corpus[4])\n"
   ]
  },
  {
   "cell_type": "code",
   "execution_count": null,
   "metadata": {},
   "outputs": [],
   "source": [
    "# The following code reads the csv file as a list using the csv library\n",
    "file_name = \"movie_plots.csv\"\n",
    "num_lines = 0\n",
    "list_corpus = []\n",
    "\n",
    "with open(file_name,\"r\",encoding=\"utf-8\") as inp:\n",
    "    reader=csv.reader(inp)\n",
    "    for file_row in reader:\n",
    "        list_corpus.append(file_row)\n",
    "        num_lines +=1\n",
    "        if num_lines >= 5:\n",
    "            break\n",
    "            \n",
    "# This is better than before - it's easier to read and doesn't split entries\n",
    "print(list_corpus)\n",
    "print(\"\\n\")\n",
    "print(list_corpus[3])\n",
    "print(list_corpus[4])"
   ]
  },
  {
   "cell_type": "code",
   "execution_count": null,
   "metadata": {},
   "outputs": [],
   "source": [
    "# The following code reads the csv file in a dictionary\n",
    "file_name = \"movie_plots.csv\"\n",
    "num_lines = 0\n",
    "dict_corpus = []\n",
    "\n",
    "with open(file_name,\"r\",encoding=\"utf-8\") as inp:\n",
    "    dict_reader=csv.DictReader(inp)\n",
    "    for file_row in dict_reader:\n",
    "        dict_corpus.append(file_row)\n",
    "        num_lines +=1\n",
    "        if num_lines >= 5:\n",
    "            break\n",
    "            \n",
    "# This is better than before, now we know what does each field stand\n",
    "print(dict_corpus)\n",
    "print(\"\\n\")\n",
    "print(dict_corpus[3])\n",
    "print(dict_corpus[4])\n",
    "\n",
    "\n",
    "# We can access specific \"data\" for each movie\n",
    "print(\"\\n The Title of the third entry is:\")\n",
    "print(dict_corpus[2][\"Title\"])"
   ]
  },
  {
   "cell_type": "code",
   "execution_count": null,
   "metadata": {},
   "outputs": [],
   "source": [
    "# Task 1: manually creating a dictionary\n",
    "# \n",
    "# This task will practice your general programming skills and your understanding of the csv formats\n",
    "# The objective is to manually create the \"dictionary\" from the csv using the normal \"list\" reader\n",
    "#\n",
    "# The csv.reader reads the file line by line and returns a list\n",
    "# Your task is to convert this list into a dictionary\n",
    "# First you need to go through the first line in the file and get the \"names\" of the different fields\n",
    "# Then, for each line in the file you need to read the \"values\" and assign them to the corresponding dictionary fields"
   ]
  }
 ],
 "metadata": {
  "kernelspec": {
   "display_name": "Python 3",
   "language": "python",
   "name": "python3"
  },
  "language_info": {
   "codemirror_mode": {
    "name": "ipython",
    "version": 3
   },
   "file_extension": ".py",
   "mimetype": "text/x-python",
   "name": "python",
   "nbconvert_exporter": "python",
   "pygments_lexer": "ipython3",
   "version": "3.7.4"
  }
 },
 "nbformat": 4,
 "nbformat_minor": 2
}
