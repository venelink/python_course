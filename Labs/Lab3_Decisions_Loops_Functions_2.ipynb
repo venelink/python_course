{
 "cells": [
  {
   "cell_type": "markdown",
   "metadata": {},
   "source": [
    "# Python for Linguists\n",
    "\n",
    "Notebook 3: Decision Structures. Loops. Functions. Part 2\n",
    "\n",
    "Venelin Kovatchev\n",
    "\n",
    "University of Barcelona 2020"
   ]
  },
  {
   "cell_type": "markdown",
   "metadata": {},
   "source": [
    "### Decision Structures and Loops (Part 2)\n",
    "\n",
    "In this notebook we will practice more with decision structures and loops\n",
    "\n"
   ]
  },
  {
   "cell_type": "code",
   "execution_count": null,
   "metadata": {},
   "outputs": [],
   "source": [
    "# We start by experimenting with the for loop\n",
    "# This is the example from the slides\n",
    "# Check the code and make sure you understand how it works and why\n",
    "for word in [\"this\", \"is\", \"a\", \"sentence\"]:\n",
    "    print(word)\n",
    "\n"
   ]
  },
  {
   "cell_type": "code",
   "execution_count": null,
   "metadata": {},
   "outputs": [],
   "source": [
    "# Task 1\n",
    "# Do the same \"Hello World\" as in the previous notebook, but use \"for\" instead of while\n",
    "# The desired output is:\n",
    "# Hello World 1\n",
    "# Hello World 2\n",
    "# Hello World 3"
   ]
  },
  {
   "cell_type": "code",
   "execution_count": null,
   "metadata": {},
   "outputs": [],
   "source": [
    "# Task 2\n",
    "# Write a function for Task 1, that takes two parameters: number of repetitions and text"
   ]
  },
  {
   "cell_type": "code",
   "execution_count": null,
   "metadata": {},
   "outputs": [],
   "source": [
    "# The input() function asks for human interaction\n",
    "# You can pass the input() function to a variable or a function\n",
    "human_inp = input(\"What is your name? \")\n",
    "print(\"Nice to meet you \" + human_inp)"
   ]
  },
  {
   "cell_type": "code",
   "execution_count": null,
   "metadata": {},
   "outputs": [],
   "source": [
    "# Task 3:\n",
    "# Copy the code for the greeting function from the previous notebook\n",
    "# Make sure you add control for negative numbers and numbers above 25\n",
    "# Modify the code so that it includes a name in the greeting\n",
    "# Use input() to ask for the time and for the name of the person\n",
    "# Greet the person accordingly"
   ]
  },
  {
   "cell_type": "code",
   "execution_count": null,
   "metadata": {},
   "outputs": [],
   "source": [
    "# Task 4:\n",
    "# In this task we will use the same \"greeting\" function as in Task 1\n",
    "# Ask the person for their name (ONCE)\n",
    "# As long as the time is earlier than 18:00, keep doing the following:\n",
    "#     Ask the person for the time\n",
    "#     Greet the person\n",
    "# \n",
    "# You keep asking and greeting until you receive time that is more than 18\n",
    "# HINT - to convert a string to an integer, use the int() function\n",
    "\n",
    "    "
   ]
  },
  {
   "cell_type": "code",
   "execution_count": null,
   "metadata": {},
   "outputs": [],
   "source": [
    "# Advanced! \n",
    "# Task 5:\n",
    "# In this task we want the user to give us the name of a country of the european union\n",
    "# We have the names of the countries in a predefined list\n",
    "# The program will work the following:\n",
    "#    It will ask the user for a country\n",
    "#    It will check if the country is in the list\n",
    "#    If the country is correct the program will say \"OK\" and exit\n",
    "#    If the country is incorrect, the program will say \"Wrong country\" and ask again\n",
    "# \n",
    "#    The program will ignore uppercase/lowercase letters\n",
    "# \n",
    "#    There are at least three ways that you can achieve this: using \"for\", using \"while\" and using the special operator \"in\"\n",
    "#    Can you create all three?"
   ]
  },
  {
   "cell_type": "code",
   "execution_count": null,
   "metadata": {},
   "outputs": [],
   "source": []
  }
 ],
 "metadata": {
  "kernelspec": {
   "display_name": "Python 3",
   "language": "python",
   "name": "python3"
  },
  "language_info": {
   "codemirror_mode": {
    "name": "ipython",
    "version": 3
   },
   "file_extension": ".py",
   "mimetype": "text/x-python",
   "name": "python",
   "nbconvert_exporter": "python",
   "pygments_lexer": "ipython3",
   "version": "3.7.4"
  }
 },
 "nbformat": 4,
 "nbformat_minor": 2
}
