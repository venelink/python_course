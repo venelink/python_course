{
 "cells": [
  {
   "cell_type": "markdown",
   "metadata": {},
   "source": [
    "# Python for Linguists\n",
    "\n",
    "Notebook 1: Python basics. Data types and variables.\n",
    "\n",
    "\n",
    "Venelin Kovatchev\n",
    "\n",
    "University of Barcelona 2020"
   ]
  },
  {
   "cell_type": "markdown",
   "metadata": {},
   "source": [
    "This is your first Jupyter notebook. In it we will experiment with different data types and variables.\n",
    "\n",
    "Jupyter notebooks include two types of cells - ``text`` cels like this one and ``code`` cels where you write your programs.\n",
    "\n",
    "Text cells are informative, they can include comments, pictures, references.\n",
    "\n",
    "Code cells are executed by pressing the ``run`` button at the top of the screen or by pressing shift + enter"
   ]
  },
  {
   "cell_type": "code",
   "execution_count": null,
   "metadata": {},
   "outputs": [],
   "source": [
    "# You can add comments to code cells by using the special symbol \"#\"\n",
    "\n",
    "# Comments are not executed and make the code easier to read\n",
    "\n",
    "                    # Comment doesn't have to start at the begining of the line"
   ]
  },
  {
   "cell_type": "markdown",
   "metadata": {},
   "source": [
    "In this notebook we will make use of the print() function. \n",
    "\n",
    "print() is used to check a given value or the value of a variable\n",
    "\n",
    "We still haven't learned what functions are and how they work, so we will use print() as it is"
   ]
  },
  {
   "cell_type": "code",
   "execution_count": null,
   "metadata": {},
   "outputs": [],
   "source": [
    "# The following line will print a message ``Hello World``\n",
    "# Note that the \"Hello World\" is not kept in a variable. \n",
    "# The program will forget anything it knows about \"Hello World\" as soon as it prints it.\n",
    "print(\"Hello World!\")\n",
    "\n",
    "# Printing a message is useful for keeping track of the program, for example:\n",
    "print(\"My program starts now!\")"
   ]
  },
  {
   "cell_type": "markdown",
   "metadata": {},
   "source": [
    "### Variables\n",
    "\n",
    "Variables are a way to keep track of information. \n",
    "\n",
    "Variables are containers where we keep \"information\". Each variable has a name and a value.\n",
    "\n",
    "You can imagine variables like boxes on kitchen shelf:\n",
    "   - each box has a label on it (\"sugar\", \"salt\", \"pepper\", etc...) - the label of the box is its ``name``\n",
    "   - each box has content - some boxes are empty, some boxes contain sugar, salt, or pepper - the content of the box is its ``value``\n",
    "\n",
    "It is not necessary that the name of the box corresponds to the value - you can put salt in the box that says sugar.\n",
    "However, it is recommended that there is at least some correspondence between the two."
   ]
  },
  {
   "cell_type": "code",
   "execution_count": null,
   "metadata": {},
   "outputs": [],
   "source": [
    "# Variables are assigned using the \"=\" sign\n",
    "# The variable name is on the left, the variable value is on the right\n",
    "# The following line creates a box with the name \"my_text\" and content \"Hello World Variable\"\n",
    "my_text = \"Hello World Variable!\"\n",
    "\n",
    "# If you use print() and the name of the variable you will get the value\n",
    "print(my_text)"
   ]
  },
  {
   "cell_type": "markdown",
   "metadata": {},
   "source": [
    "Why do we need variables?\n",
    "\n",
    "Variables allow the program to \"remember\" things and keep track of them. \n",
    "\n",
    "Let's look at two very simple usage cases: reusing a variable and continuously modifying a variable"
   ]
  },
  {
   "cell_type": "code",
   "execution_count": null,
   "metadata": {},
   "outputs": [],
   "source": [
    "# Reusing variables\n",
    "\n",
    "# Imagine there is a long text that you want to process. \n",
    "# So far the only function we know is print(), but soon we will learn about many others\n",
    "my_long_text = \"This is a sentence which is much longer than the name of the corresponding variable.\"\n",
    "\n",
    "\n",
    "\n",
    "# If you want to print this sentence again, you do the same\n",
    "print(my_long_text)\n"
   ]
  },
  {
   "cell_type": "code",
   "execution_count": null,
   "metadata": {},
   "outputs": [],
   "source": [
    "# If you want to print this sentence, all you need to do is run print() and use the name of the variable\n",
    "print(my_long_text)"
   ]
  },
  {
   "cell_type": "code",
   "execution_count": null,
   "metadata": {},
   "outputs": [],
   "source": [
    "# On the contrary, if you want to print without using variaibles, you have to provide the whole text every single time:\n",
    "print(\"This is a sentence which is much longer than the name of the corresponding variable.\")"
   ]
  },
  {
   "cell_type": "markdown",
   "metadata": {},
   "source": [
    "Now imagine that instead of a sentence, you have a whole paragraph, or a document, or a whole book. \n",
    "\n",
    "It's much more convenient to just assign a \"name\" to that variable and use the name\n",
    "\n",
    "We as humans also use names to refer to things "
   ]
  },
  {
   "cell_type": "code",
   "execution_count": null,
   "metadata": {},
   "outputs": [],
   "source": [
    "# Continuously modifying a variable\n",
    "\n",
    "# Let's go back to the cake example from the slides\n",
    "# Let's initialize our cake variable\n",
    "\n",
    "# At the begining of the program, our cake doesn't contain anything\n",
    "cake = \"\"\n",
    "print(cake)\n"
   ]
  },
  {
   "cell_type": "code",
   "execution_count": null,
   "metadata": {},
   "outputs": [],
   "source": [
    "# We add flour\n",
    "cake = cake + \"flour\"\n",
    "print(cake)"
   ]
  },
  {
   "cell_type": "code",
   "execution_count": null,
   "metadata": {},
   "outputs": [],
   "source": [
    "# We add sugar\n",
    "cake = cake + \", sugar\"\n",
    "print(cake)"
   ]
  },
  {
   "cell_type": "code",
   "execution_count": null,
   "metadata": {},
   "outputs": [],
   "source": [
    "# We add eggs\n",
    "cake = cake + \", eggs\"\n",
    "print(cake)\n",
    "\n",
    "# You can see how our cake keeps changing at every step. \n",
    "# Using a variable is the way to keep track of the current state of the cake.\n",
    "# Computer programs can get very complicated, it is often hard (and impractical) to remember everything.\n",
    "# Therefore we use variables to help us."
   ]
  },
  {
   "cell_type": "markdown",
   "metadata": {},
   "source": [
    "### Data Types\n",
    "\n",
    "We learned about different types of data: numeric, boolean, string, list\n",
    "\n",
    "In the next part of the practice we will see some differences between the data types and we will explore some basic operations."
   ]
  },
  {
   "cell_type": "markdown",
   "metadata": {},
   "source": [
    "#### Numeric data types\n",
    "\n",
    "There are two types of numeric data types that we learned about - integer and float.\n",
    "\n",
    "We introduced several operations that we can apply to numeric data types:\n",
    "\n",
    "* Addition / Sum \t( + ) : \t2 + 3 = 5\n",
    "* Subtraction \t( – ) :\t3 – 2 = 1\n",
    "* Multiplication \t( * ) :\t2 * 3 = 3 * 2 = 6\n",
    "* (True) Division \t( / ) : \t5 / 2 = 2.5\n",
    "* (Integer) Division\t( // ) :\t5 // 2 = 2\n",
    "* Power\t\t( ** ) :\t5 ** 2 = 25\n",
    "\n",
    "You can experiment with the different data types and the different operations in the next cell.\n",
    "\n",
    "Keep the results in variables and use print to see the result as in the example."
   ]
  },
  {
   "cell_type": "code",
   "execution_count": null,
   "metadata": {},
   "outputs": [],
   "source": [
    "# This is an example for addition with integers and floats\n",
    "result = 2 + 3\n",
    "print(result)\n",
    "result_fl = 2.5 + 3.1\n",
    "print(result_fl)\n"
   ]
  },
  {
   "cell_type": "code",
   "execution_count": null,
   "metadata": {},
   "outputs": [],
   "source": [
    "# Here you can experiment with other operations - substraction, multiplication, division, power\n",
    "# Compare the results using integers and floats"
   ]
  },
  {
   "cell_type": "markdown",
   "metadata": {},
   "source": [
    "#### String data types\n",
    "\n",
    "Strings are a sequence of characters, enclosed by quotes (single or double).\n",
    "\n",
    "We can concatenate strings using the \"+\" sign.\n",
    "We can access a specific character in the string by using brackets and the sequence number of the character (starting from 0)\n",
    "We can ``slice`` a part of the string, by using brackets and providing the start and end sequence number\n",
    "\n",
    "A special function called len() gives you the number of characters in a string\n",
    "\n",
    "You can experiment with strings in the next cell. Can you think of other operations you could use with strings?"
   ]
  },
  {
   "cell_type": "code",
   "execution_count": null,
   "metadata": {},
   "outputs": [],
   "source": [
    "# Concatenating strings\n",
    "text_1 = \"some\"\n",
    "text_2 = \"word\"\n",
    "text = text_1 + \" \" + text_2\n",
    "print(text)\n"
   ]
  },
  {
   "cell_type": "code",
   "execution_count": null,
   "metadata": {},
   "outputs": [],
   "source": [
    "# Accessing a character by its number\n",
    "# 0, 1, 2, 3 -> 3 is the 4th character\n",
    "character_4 = text[3]\n",
    "print(\"The 4th character of '\" + text + \"' is\")\n",
    "print(character_4)"
   ]
  },
  {
   "cell_type": "code",
   "execution_count": null,
   "metadata": {},
   "outputs": [],
   "source": [
    "# Slicing a part of a string\n",
    "# The last character is NOT included - 0:4 means 0,1,2,3\n",
    "word_1 = text[0:4] \n",
    "print(word_1)"
   ]
  },
  {
   "cell_type": "code",
   "execution_count": null,
   "metadata": {},
   "outputs": [],
   "source": [
    "# A special function to see the length of a string\n",
    "# The function len() is similar to print - it does \"something\" with the variable that we provide.\n",
    "# When used on strings, len() counts the number of characters in the string\n",
    "print(len(text))\n",
    "print(len(character_4))\n",
    "print(len(word_1))"
   ]
  },
  {
   "cell_type": "code",
   "execution_count": null,
   "metadata": {},
   "outputs": [],
   "source": [
    "# Difference between integers and strings\n",
    "string_4 = \"4\"\n",
    "int_4 = 4\n",
    "\n",
    "# Can you guess what will happen with each of these two actions\n",
    "string_add = string_4 + string_4\n",
    "int_add = int_4 + int_4"
   ]
  },
  {
   "cell_type": "code",
   "execution_count": null,
   "metadata": {},
   "outputs": [],
   "source": [
    "# Converting between data types is possible\n",
    "conv_int_4 = str(int_4)\n",
    "print(conv_int_4 + conv_int_4)"
   ]
  },
  {
   "cell_type": "markdown",
   "metadata": {},
   "source": [
    "#### List data types\n",
    "\n",
    "A list is a collection of OTHER data types, surrounded by brackets [] and separated by a comma:\n",
    "\n",
    "* A list of integers: [1, 2, 3, 4, 5]\n",
    "* A list of strings: [“some”, “words”, “in”, “a”, “list”]\n",
    "* A list of integers AND strings: [6, “words”, “and”, 2, “numbers”, “in”, “a”, “list”]\n",
    "\n",
    "Lists can be concatenated and sliced in a similar manner than strings. You can also use the len() function on lists\n",
    "\n",
    "Why do we need lists? Lists allow us to represent multiple different \"things\". We can choose what these \"things\" are.\n",
    "\n",
    "For example, observe the difference between the following string and list:\n",
    "\n",
    "\"This is a sentence containing several words.\"\n",
    "[\"This\", \"is\", \"a\", \"sentence\", \"containing\", \"several\", \"words\"]\n",
    "\n",
    "The textual content of both is the same. \n",
    "However, a string is a sequence of characters, it has no structure and the only \"element\" of a strirng are the characters.\n",
    "A list in this example is a sequence of strings. Each \"element\" of the list corresponds to a word.\n",
    "From a lingusitic point of view it's easier to work with words than with characters.\n",
    "\n",
    "You can experiment with lists in the next cell."
   ]
  },
  {
   "cell_type": "code",
   "execution_count": null,
   "metadata": {},
   "outputs": [],
   "source": [
    "# Initializing a list\n",
    "int_list = [1,2,3,4,5]\n",
    "int_list_2 = [6,7,8]\n",
    "\n",
    "# List addition\n",
    "int_list_3 = int_list + int_list_2\n",
    "print(int_list_3)\n",
    "\n",
    "# You can experiment with trying to refer to a particular element of the list ot slice a portion of the list\n",
    "# Use the same idea as when working with strings"
   ]
  },
  {
   "cell_type": "markdown",
   "metadata": {},
   "source": [
    "### Computing = Data + Algorithms\n",
    "\n",
    "Here is a very simple example of automatic text processing using the NLTK programming library. Don't worry if you don't understand everything, it's just an sneak peak into the future of the course. In the next classes you will learn more about functions, libraries, text manipulation and by the end of the course you should know more about how these programs work.\n",
    "\n",
    "In this example we start with a sentence in a string. We then tokenize it automatically and obtain a list of words. Then we apply Part of Speech tagging to the tokenized version of the sentence.\n",
    "\n",
    "Remember: computing = data + algorithms\n",
    "\n",
    "What is the data and what are the algorithms in these examples?\n",
    "\n",
    "Feel free to experiment with the code if you want.\n"
   ]
  },
  {
   "cell_type": "code",
   "execution_count": null,
   "metadata": {},
   "outputs": [],
   "source": [
    "# Import the nltk library\n",
    "import nltk\n",
    "\n",
    "# Define the sentencee\n",
    "ex_sentence = \"The quick brown fox jumped over the lazy dog.\"\n",
    "print(ex_sentence)\n"
   ]
  },
  {
   "cell_type": "code",
   "execution_count": null,
   "metadata": {},
   "outputs": [],
   "source": [
    "# Tokenize the sentence\n",
    "tok_sentence = nltk.word_tokenize(ex_sentence)\n",
    "print(tok_sentence)"
   ]
  },
  {
   "cell_type": "code",
   "execution_count": null,
   "metadata": {},
   "outputs": [],
   "source": [
    "# POS tag the sentence\n",
    "pos_sentence = nltk.pos_tag(tok_sentence)\n",
    "print(pos_sentence)"
   ]
  },
  {
   "cell_type": "code",
   "execution_count": null,
   "metadata": {},
   "outputs": [],
   "source": []
  }
 ],
 "metadata": {
  "kernelspec": {
   "display_name": "Python 3",
   "language": "python",
   "name": "python3"
  },
  "language_info": {
   "codemirror_mode": {
    "name": "ipython",
    "version": 3
   },
   "file_extension": ".py",
   "mimetype": "text/x-python",
   "name": "python",
   "nbconvert_exporter": "python",
   "pygments_lexer": "ipython3",
   "version": "3.7.4"
  }
 },
 "nbformat": 4,
 "nbformat_minor": 2
}
