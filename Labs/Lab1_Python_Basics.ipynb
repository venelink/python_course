{
 "cells": [
  {
   "cell_type": "markdown",
   "metadata": {},
   "source": [
    "Python for Linguists\n",
    "\n",
    "Notebook 1: Python basics. Data types and variables.\n",
    "\n",
    "\n",
    "Venelin Kovatchev\n",
    "\n",
    "University of Barcelona 2020"
   ]
  },
  {
   "cell_type": "markdown",
   "metadata": {},
   "source": [
    "This is your first Jupyter notebook. In it we will experiment with different data types and variables.\n",
    "Jupyter notebooks include two types of cells - ``text`` cels like this one and ``code`` cels where you write your programs."
   ]
  },
  {
   "cell_type": "code",
   "execution_count": null,
   "metadata": {},
   "outputs": [],
   "source": [
    "# You can add comments to code cells by starting the line with the special symbol #"
   ]
  },
  {
   "cell_type": "markdown",
   "metadata": {},
   "source": [
    "In this notebook we will make use of the print() function. It prints a given value or the value of a variable"
   ]
  },
  {
   "cell_type": "code",
   "execution_count": null,
   "metadata": {},
   "outputs": [],
   "source": [
    "print(\"Hello World!\")\n",
    "my_text = \"Hello World Variable!\"\n",
    "print(my_text)"
   ]
  },
  {
   "attachments": {},
   "cell_type": "markdown",
   "metadata": {},
   "source": [
    "Numeric data types\n",
    "\n",
    "There are two types of numeric data types that we learned about - integer and float.\n",
    "\n",
    "We introduced several operations that we can apply to numeric data types:\n",
    "\n",
    "* Addition / Sum \t( + ) : \t2 + 3 = 5\n",
    "* Subtraction \t( – ) :\t3 – 2 = 1\n",
    "* Multiplication \t( * ) :\t2 * 3 = 3 * 2 = 6\n",
    "* (True) Division \t( / ) : \t5 / 2 = 2.5\n",
    "* (Integer) Division\t( // ) :\t5 // 2 = 2\n",
    "* Power\t\t( ** ) :\t5 ** 2 = 25\n",
    "\n",
    "You can experiment with the different data types and the different operations in the next cell.\n",
    "\n",
    "Keep the results in variables and use print to see the result as in the example."
   ]
  },
  {
   "cell_type": "code",
   "execution_count": null,
   "metadata": {},
   "outputs": [],
   "source": [
    "result = 2 + 3\n",
    "print(result)"
   ]
  },
  {
   "cell_type": "markdown",
   "metadata": {},
   "source": [
    "String data types\n",
    "\n",
    "Strings are a sequence of characters, enclosed by quotes (single or double).\n",
    "\n",
    "We can concatenate strings using the \"+\" sign.\n",
    "We can access a specific character in the string by using brackets and the sequence number of the character (starting from 0)\n",
    "We can ``slice`` a part of the string, by using brackets and providing the start and end sequence number\n",
    "\n",
    "A special function called len() gives you the number of characters in a string\n",
    "\n",
    "You can experiment with strings in the next cell. Can you think of other operations you could use with strings?"
   ]
  },
  {
   "cell_type": "code",
   "execution_count": null,
   "metadata": {},
   "outputs": [],
   "source": [
    "# Concatenating strings\n",
    "text_1 = \"some\"\n",
    "text_2 = \"word\"\n",
    "text = text_1 + \" \" + text_2\n",
    "print(text)\n",
    "\n",
    "# Accessing a character by its  number\n",
    "character_4 = text[3]  # 0, 1, 2, 3 -> 3 is the 4th character\n",
    "print(character_4)\n",
    "\n",
    "# Slicing a part of a string\n",
    "word_1 = text[0:4] # The last character is NOT included - 0:4 means 0,1,2,3\n",
    "print(word_1)\n",
    "\n",
    "# A special function to see the length of a string\n",
    "print(len(text))\n",
    "print(len(character_4))\n",
    "print(len(word_1))"
   ]
  },
  {
   "attachments": {},
   "cell_type": "markdown",
   "metadata": {},
   "source": [
    "List data types\n",
    "\n",
    "A list is a collection of OTHER data types, surrounded by brackets [] and separated by a comma:\n",
    "\n",
    "* A list of integers: [1, 2, 3, 4, 5]\n",
    "* A list of strings: [“some”, “words”, “in”, “a”, “list”]\n",
    "* A list of integers AND strings: [6, “words”, “and”, 2, “numbers”, “in”, “a”, “list”]\n",
    "\n",
    "Lists can be concatenated and sliced in a similar manner than strings. You can also use the len() function on lists\n",
    "\n",
    "You can experiment with lists in the next cell."
   ]
  },
  {
   "cell_type": "code",
   "execution_count": null,
   "metadata": {},
   "outputs": [],
   "source": [
    "integer_list = [1,2,3,4,5]"
   ]
  },
  {
   "cell_type": "markdown",
   "metadata": {},
   "source": [
    "Here is a very simple example of automatic text processing using the NLTK programming library. Don't worry if you don't understand everything, it's just an sneak peak into the future of the course. In the next classes you will learn more about functions, libraries, text manipulation and by the end of the course you should know more about how these programs work.\n",
    "\n",
    "In this example we start with a sentence in a string. We then tokenize it automatically and obtain a list of words. Then we apply Part of Speech tagging to the tokenized version of the sentence.\n",
    "\n",
    "Remember: computing = data + algorithms\n",
    "\n",
    "What is the data and what are the algorithms in these examples?\n",
    "\n",
    "Feel free to experiment with the code if you want.\n"
   ]
  },
  {
   "cell_type": "code",
   "execution_count": null,
   "metadata": {},
   "outputs": [],
   "source": [
    "# Import the nltk library\n",
    "import nltk\n",
    "\n",
    "# Define the sentencee\n",
    "ex_sentence = \"The quick brown fox jumped over the lazy dog.\"\n",
    "print(ex_sentence)\n",
    "\n",
    "# Tokenize the sentence\n",
    "tok_sentence = nltk.word_tokenize(ex_sentence)\n",
    "print(tok_sentence)\n",
    "\n",
    "# POS tag the sentence\n",
    "pos_sentence = nltk.pos_tag(tok_sentence)\n",
    "print(pos_sentence)"
   ]
  },
  {
   "cell_type": "code",
   "execution_count": null,
   "metadata": {},
   "outputs": [],
   "source": []
  },
  {
   "cell_type": "code",
   "execution_count": null,
   "metadata": {},
   "outputs": [],
   "source": []
  }
 ],
 "metadata": {
  "kernelspec": {
   "display_name": "Python 3",
   "language": "python",
   "name": "python3"
  },
  "language_info": {
   "codemirror_mode": {
    "name": "ipython",
    "version": 3
   },
   "file_extension": ".py",
   "mimetype": "text/x-python",
   "name": "python",
   "nbconvert_exporter": "python",
   "pygments_lexer": "ipython3",
   "version": "3.7.4"
  }
 },
 "nbformat": 4,
 "nbformat_minor": 2
}
