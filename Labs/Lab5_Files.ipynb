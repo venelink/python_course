{
 "cells": [
  {
   "cell_type": "markdown",
   "metadata": {},
   "source": [
    "# Python for Linguists\n",
    "\n",
    "Notebook 5: Files\n",
    "\n",
    "Venelin Kovatchev\n",
    "\n",
    "University of Barcelona 2020"
   ]
  },
  {
   "cell_type": "markdown",
   "metadata": {},
   "source": [
    "### Strings, Lists, Dictionaries\n",
    "\n",
    "In this notebook we will continue the last practice practice with strings, lists, and dictionaries and text statistics.\n",
    "\n",
    "However, this time we will be using files instead of a fixed variable\n"
   ]
  },
  {
   "cell_type": "code",
   "execution_count": null,
   "metadata": {},
   "outputs": [],
   "source": [
    "# In order to read files, we need to open them first\n",
    "\n",
    "# Let's start by opening the manel file\n",
    "# The manel file is within the same folder as this program, so we don't need to put the full path, we just put the name\n",
    "with open('manel.txt', 'r', encoding='utf-8') as f:\n",
    "    # Let's see reading the file in a string\n",
    "    manel_str = f.read()\n",
    "\n",
    "with open('manel.txt', 'r', encoding='utf-8') as f_2:\n",
    "    manel_list = f_2.readlines()\n",
    "    \n",
    "# When we change the indentation, python will automatically \"close\" the file\n",
    "# You don't have to worry about closing the file in this example\n",
    "\n",
    "print(\"The file read as a single string\")\n",
    "print(manel_str)\n"
   ]
  },
  {
   "cell_type": "code",
   "execution_count": null,
   "metadata": {},
   "outputs": [],
   "source": [
    "# Let's see the first 100 characters:\n",
    "print(manel_str[:100])\n",
    "\n",
    "# Observe that the print() correctly puts the newlines\n",
    "# If we want to see the text in the way it is actually saved in the file, we can use the repr() function\n",
    "# As you can see, the file is in fact one very long string, a single line. \\n marks the ends of each \"expected\" line\n",
    "print(repr(manel_str[:100]))\n"
   ]
  },
  {
   "cell_type": "code",
   "execution_count": null,
   "metadata": {},
   "outputs": [],
   "source": [
    "# Now let's see the list version of the file\n",
    "print(manel_list[:5])"
   ]
  },
  {
   "cell_type": "code",
   "execution_count": null,
   "metadata": {},
   "outputs": [],
   "source": [
    "# Finally, let's see how reading file line by line works:\n",
    "\n",
    "num_lines = 0\n",
    "\n",
    "with open('manel.txt', 'r', encoding='utf-8') as f_3:\n",
    "    for cur_line in f_3:\n",
    "        # In this code we just print the line and some text\n",
    "        # In real code we can do things with each line - e.g. we can split(), we can count, we can keep it in another variable\n",
    "        print(\"Printing line number \" + str(num_lines))\n",
    "        print(cur_line)\n",
    "        num_lines +=1"
   ]
  },
  {
   "cell_type": "code",
   "execution_count": null,
   "metadata": {},
   "outputs": [],
   "source": [
    "# Writing to files works as described in the lectures:\n",
    "with open('test.txt', 'w', encoding='utf-8') as f_4:\n",
    "    f_4.write(\"Some text here\")\n",
    "    # You can use the \"\\n\" symbol to write a new line\n",
    "    f_4.write(\"\\n\")\n",
    "    # You can also use a variable\n",
    "    str_to_write = \"Some text ending with a newline.\\n\"\n",
    "    f_4.write(str_to_write)\n",
    "    \n",
    "    # You can go and open the file with notepad to see the content"
   ]
  },
  {
   "cell_type": "markdown",
   "metadata": {},
   "source": [
    "For today's exercise, we will continue working with text statistics\n",
    "\n",
    "We will use the exercise from last week to read a corpus, create a vocabulary, and count the frequencies\n",
    "\n",
    "However, instead of using a predefined corpus in a list, we will read the data from a file\n",
    "\n",
    "We will also put some additional requirements on counting characters"
   ]
  },
  {
   "cell_type": "code",
   "execution_count": null,
   "metadata": {},
   "outputs": [],
   "source": [
    "# The following function will open a file and read it line by line\n",
    "# There are three possible texts in this lab, the names are \"manel\", \"macbeth\" and \"quijote\"\n",
    "\n",
    "def readLineFromText(text):\n",
    "    with open(text+'.txt', 'r', encoding='utf-8') as f:\n",
    "        for line in f:\n",
    "            yield line\n",
    "            \n",
    "# Observe the behavior of the readLineFromText function:\n",
    "# It is the same as the example we previously saw\n",
    "\n",
    "for sentence in readLineFromText(\"manel\"):\n",
    "    print(\"This is a sentence: \")\n",
    "    print(sentence)"
   ]
  },
  {
   "cell_type": "code",
   "execution_count": null,
   "metadata": {},
   "outputs": [],
   "source": [
    "# We will use the same functions to print and plot statistics as in the previous task\n",
    "# Do not change those\n",
    "import collections\n",
    "import matplotlib.pyplot as plt\n",
    "def mostCommonWords(d):\n",
    "    c = collections.Counter(d)\n",
    "    most = c.most_common(10)\n",
    "    print('Rank\\t\\tWord\\t\\tFrequency')\n",
    "    print('----\\t\\t----\\t\\t---------')\n",
    "    for i,(w,f) in enumerate(most):\n",
    "        print(str(i+1)+ '\\t\\t' + w + '\\t\\t' + str(f))\n",
    "\n",
    "def plot(d):\n",
    "    c = collections.Counter(d)\n",
    "    most = c.most_common()\n",
    "    plt.plot([x[1] for x in most])\n",
    "    plt.grid()\n",
    "    plt.xlabel('Word rank')\n",
    "    plt.ylabel('Frequency')\n",
    "    \n",
    "    \n"
   ]
  },
  {
   "cell_type": "code",
   "execution_count": null,
   "metadata": {},
   "outputs": [],
   "source": [
    "# Task 1\n",
    "\n",
    "# Use the function readLineFromText to process the whole text file\n",
    "# When reading a sentence, separate all the words using .split() and keep them in a list, similar to Task 1 from last class"
   ]
  },
  {
   "cell_type": "code",
   "execution_count": null,
   "metadata": {},
   "outputs": [],
   "source": [
    "# Task 2 \n",
    "# Create a vocabulary for the text files, similar to Task 2 from last class\n",
    "# The vocabulary should be case insensitive, it should not make a difference between \"SPAIN\", \"Spain\", and \"spain\"\n",
    "# Ignore stop words and do not add them to the vocabulary\n",
    "# For the purpose of this exercise, stop words are words with length 1,2, or 3\n",
    "# Alternatively, create a list variable with stop words and check if a word is in the list\n"
   ]
  },
  {
   "cell_type": "code",
   "execution_count": null,
   "metadata": {},
   "outputs": [],
   "source": [
    "# Task 3\n",
    "# Calculate the word frequencies for the text files, similar to Task 3 from last class\n",
    "# Use the vocabulary from task 2, case insensitive and ignoring stop words\n",
    "# \n"
   ]
  },
  {
   "cell_type": "code",
   "execution_count": null,
   "metadata": {},
   "outputs": [],
   "source": [
    "# Task 4\n",
    "# Experiment using the Counter() dictionary\n",
    "# Unlike a normal dictionary, a Counter dictionary does not give you error when you try to modify non-existing value\n",
    "# It defaults it to 0\n",
    "# You can create a new counter with the following code\n",
    "import collections\n",
    "count = counts = collections.Counter()\n",
    "\n",
    "# Redo task 3 usning a counter dictionary instead of a normal one"
   ]
  },
  {
   "cell_type": "code",
   "execution_count": null,
   "metadata": {},
   "outputs": [],
   "source": [
    "# Task 5 (Advanced)\n",
    "# Normalize the frequencies\n",
    "# Now we're switching from absolute frequencies to relative frequencies, that is, each value will be the \n",
    "# fraction of occurrences of its key, and all values in the dictionary should sum 1. Then show the results again.\n",
    "# \n",
    "# Hints:\n",
    "# - relative frequency of x = absolute frequency of x / sum of all absolute frequencies\n",
    "# - You don't need to sum all absolute frequencies for each time you do the previous operation \n",
    "#   in your code, because it is constant. You can calculate it once and store it in a variable."
   ]
  }
 ],
 "metadata": {
  "kernelspec": {
   "display_name": "Python 3",
   "language": "python",
   "name": "python3"
  },
  "language_info": {
   "codemirror_mode": {
    "name": "ipython",
    "version": 3
   },
   "file_extension": ".py",
   "mimetype": "text/x-python",
   "name": "python",
   "nbconvert_exporter": "python",
   "pygments_lexer": "ipython3",
   "version": "3.7.4"
  }
 },
 "nbformat": 4,
 "nbformat_minor": 2
}
